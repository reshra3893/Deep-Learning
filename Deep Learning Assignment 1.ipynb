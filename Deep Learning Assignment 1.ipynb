{
 "cells": [
  {
   "cell_type": "markdown",
   "metadata": {},
   "source": [
    "Importing packages"
   ]
  },
  {
   "cell_type": "code",
   "execution_count": 75,
   "metadata": {},
   "outputs": [],
   "source": [
    "from keras.models import Sequential,Model\n",
    "from keras.layers import Dense, Activation,Flatten\n",
    "from keras.utils import np_utils\n",
    "from keras.layers import Conv2D, MaxPooling2D, Dropout, BatchNormalization, Input, UpSampling2D\n",
    "import matplotlib.cm as cm #Makes imageplotlib show the images inline #in Jupyter notebooks: \n",
    "from keras.optimizers import SGD,Adam\n",
    "from keras.wrappers.scikit_learn import KerasRegressor\n",
    "from sklearn.model_selection import cross_val_score\n",
    "from sklearn.model_selection import KFold\n",
    "from sklearn.preprocessing import StandardScaler\n",
    "import matplotlib.pyplot as plt\n",
    "%matplotlib inline\n",
    "import numpy as np\n",
    "import matplotlib.patches as patches\n",
    "\n",
    "\n"
   ]
  },
  {
   "cell_type": "markdown",
   "metadata": {},
   "source": [
    "### Using the generate functions to create images"
   ]
  },
  {
   "cell_type": "code",
   "execution_count": 76,
   "metadata": {},
   "outputs": [
    {
     "data": {
      "image/png": "[encoded data removed]",
      "text/plain": [
       "<Figure size 432x288 with 1 Axes>"
      ]
     },
     "metadata": {},
     "output_type": "display_data"
    }
   ],
   "source": [
    "\n",
    "\n",
    "# On some implementations of matplotlib, you may need to change this value\n",
    "IMAGE_SIZE = 72\n",
    "\n",
    "def generate_a_drawing(figsize, U, V, noise=0.0):\n",
    "    fig = plt.figure(figsize=(figsize,figsize))\n",
    "    ax = plt.subplot(111)\n",
    "    plt.axis('Off')\n",
    "    ax.set_xlim(0,figsize)\n",
    "    ax.set_ylim(0,figsize)\n",
    "    ax.fill(U, V, \"k\")\n",
    "    fig.canvas.draw()\n",
    "    imdata = np.frombuffer(fig.canvas.tostring_rgb(), dtype=np.uint8)[::3].astype(np.float32)\n",
    "    imdata = imdata + noise * np.random.random(imdata.size)\n",
    "    plt.close(fig)\n",
    "    return imdata\n",
    "\n",
    "def generate_a_rectangle(noise=0.0, free_location=False):\n",
    "    figsize = 1.0    \n",
    "    U = np.zeros(4)\n",
    "    V = np.zeros(4)\n",
    "    if free_location:\n",
    "        corners = np.random.random(4)\n",
    "        top = max(corners[0], corners[1])\n",
    "        bottom = min(corners[0], corners[1])\n",
    "        left = min(corners[2], corners[3])\n",
    "        right = max(corners[2], corners[3])\n",
    "    else:\n",
    "        side = (0.3 + 0.7 * np.random.random()) * figsize\n",
    "        top = figsize/2 + side/2\n",
    "        bottom = figsize/2 - side/2\n",
    "        left = bottom\n",
    "        right = top\n",
    "    U[0] = U[1] = top\n",
    "    U[2] = U[3] = bottom\n",
    "    V[0] = V[3] = left\n",
    "    V[1] = V[2] = right\n",
    "    return generate_a_drawing(figsize, U, V, noise)\n",
    "\n",
    "\n",
    "def generate_a_disk(noise=0.0, free_location=False):\n",
    "    figsize = 1.0\n",
    "    if free_location:\n",
    "        center = np.random.random(2)\n",
    "    else:\n",
    "        center = (figsize/2, figsize/2)\n",
    "    radius = (0.3 + 0.7 * np.random.random()) * figsize/2\n",
    "    N = 50\n",
    "    U = np.zeros(N)\n",
    "    V = np.zeros(N)\n",
    "    i = 0\n",
    "    for t in np.linspace(0, 2*np.pi, N):\n",
    "        U[i] = center[0] + np.cos(t) * radius\n",
    "        V[i] = center[1] + np.sin(t) * radius\n",
    "        i = i + 1\n",
    "    return generate_a_drawing(figsize, U, V, noise)\n",
    "\n",
    "def generate_a_triangle(noise=0.0, free_location=False):\n",
    "    figsize = 1.0\n",
    "    if free_location:\n",
    "        U = np.random.random(3)\n",
    "        V = np.random.random(3)\n",
    "    else:\n",
    "        size = (0.3 + 0.7 * np.random.random())*figsize/2\n",
    "        middle = figsize/2\n",
    "        U = (middle, middle+size, middle-size)\n",
    "        V = (middle+size, middle-size, middle-size)\n",
    "    imdata = generate_a_drawing(figsize, U, V, noise)\n",
    "    return [imdata, [U[0], V[0], U[1], V[1], U[2], V[2]]]\n",
    "\n",
    "\n",
    "im = generate_a_rectangle(10, True)\n",
    "plt.imshow(im.reshape(IMAGE_SIZE,IMAGE_SIZE), cmap='gray')\n",
    "\n",
    "im = generate_a_disk(10)\n",
    "plt.imshow(im.reshape(IMAGE_SIZE,IMAGE_SIZE), cmap='gray')\n",
    "\n",
    "[im, v] = generate_a_triangle(20, False)\n",
    "plt.imshow(im.reshape(IMAGE_SIZE,IMAGE_SIZE), cmap='gray')\n",
    "\n",
    "\n",
    "def generate_dataset_classification(nb_samples, noise=0.0, free_location=False):\n",
    "    # Getting im_size:\n",
    "    im_size = generate_a_rectangle().shape[0]\n",
    "    X = np.zeros([nb_samples,im_size])\n",
    "    Y = np.zeros(nb_samples)\n",
    "    print('Creating data:')\n",
    "    for i in range(nb_samples):\n",
    "        if i % 10 == 0:\n",
    "            print(i)\n",
    "        category = np.random.randint(3)\n",
    "        if category == 0:\n",
    "            X[i] = generate_a_rectangle(noise, free_location)\n",
    "        elif category == 1: \n",
    "            X[i] = generate_a_disk(noise, free_location)\n",
    "        else:\n",
    "            [X[i], V] = generate_a_triangle(noise, free_location)\n",
    "        Y[i] = category\n",
    "    X = (X + noise) / (255 + 2 * noise)\n",
    "    return [X, Y]\n",
    "\n",
    "def generate_test_set_classification():\n",
    "    np.random.seed(42)\n",
    "    [X_test, Y_test] = generate_dataset_classification(300, 20, True)\n",
    "    Y_test = np_utils.to_categorical(Y_test, 3) \n",
    "    return [X_test, Y_test]\n",
    "\n",
    "def generate_dataset_regression(nb_samples, noise=0.0):\n",
    "    # Getting im_size:\n",
    "    im_size = generate_a_triangle()[0].shape[0]\n",
    "    X = np.zeros([nb_samples,im_size])\n",
    "    Y = np.zeros([nb_samples, 6])\n",
    "    print('Creating data:')\n",
    "    for i in range(nb_samples):\n",
    "        if i % 10 == 0:\n",
    "            print(i)\n",
    "        [X[i], Y[i]] = generate_a_triangle(noise, True)\n",
    "    X = (X + noise) / (255 + 2 * noise)\n",
    "    return [X, Y]\n",
    "\n",
    "\n",
    "\n",
    "def visualize_prediction(x, y):\n",
    "    fig, ax = plt.subplots(figsize=(5, 5))\n",
    "    I = x.reshape((IMAGE_SIZE,IMAGE_SIZE))\n",
    "    ax.imshow(I, extent=[-0.15,1.15,-0.15,1.15],cmap='gray')\n",
    "    ax.set_xlim([0,1])\n",
    "    ax.set_ylim([0,1])\n",
    "\n",
    "    xy = y.reshape(3,2)\n",
    "    tri = patches.Polygon(xy, closed=True, fill = False, edgecolor = 'r', linewidth = 5, alpha = 0.5)\n",
    "    ax.add_patch(tri)\n",
    "\n",
    "    plt.show()\n",
    "\n",
    "def generate_test_set_regression():\n",
    "    np.random.seed(42)\n",
    "    [X_test, Y_test] = generate_dataset_regression(300, 20)\n",
    "    return [X_test, Y_test]\n",
    "\n"
   ]
  },
  {
   "cell_type": "markdown",
   "metadata": {},
   "source": [
    "### Question 3 Simple Classification"
   ]
  },
  {
   "cell_type": "code",
   "execution_count": 77,
   "metadata": {},
   "outputs": [
    {
     "name": "stdout",
     "output_type": "stream",
     "text": [
      "Creating data:\n",
      "0\n",
      "10\n",
      "20\n",
      "30\n",
      "40\n",
      "50\n",
      "60\n",
      "70\n",
      "80\n",
      "90\n",
      "100\n",
      "110\n",
      "120\n",
      "130\n",
      "140\n",
      "150\n",
      "160\n",
      "170\n",
      "180\n",
      "190\n",
      "200\n",
      "210\n",
      "220\n",
      "230\n",
      "240\n",
      "250\n",
      "260\n",
      "270\n",
      "280\n",
      "290\n"
     ]
    }
   ],
   "source": [
    "[X_train, Y_train] = generate_dataset_classification(300, 20)"
   ]
  },
  {
   "cell_type": "code",
   "execution_count": 78,
   "metadata": {},
   "outputs": [
    {
     "data": {
      "text/plain": [
       "(300, 5184)"
      ]
     },
     "execution_count": 78,
     "metadata": {},
     "output_type": "execute_result"
    }
   ],
   "source": [
    "X_train.shape"
   ]
  },
  {
   "cell_type": "code",
   "execution_count": 79,
   "metadata": {},
   "outputs": [
    {
     "data": {
      "text/plain": [
       "(300,)"
      ]
     },
     "execution_count": 79,
     "metadata": {},
     "output_type": "execute_result"
    }
   ],
   "source": [
    "Y_train.shape"
   ]
  },
  {
   "cell_type": "code",
   "execution_count": 80,
   "metadata": {},
   "outputs": [],
   "source": [
    "#Changing the Y variable to one hot encoded values\n",
    "Y_train = np_utils.to_categorical(Y_train) "
   ]
  },
  {
   "cell_type": "code",
   "execution_count": 81,
   "metadata": {},
   "outputs": [
    {
     "data": {
      "text/plain": [
       "(300, 3)"
      ]
     },
     "execution_count": 81,
     "metadata": {},
     "output_type": "execute_result"
    }
   ],
   "source": [
    "Y_train.shape"
   ]
  },
  {
   "cell_type": "code",
   "execution_count": 82,
   "metadata": {},
   "outputs": [
    {
     "data": {
      "text/plain": [
       "array([[0., 1., 0.],\n",
       "       [1., 0., 0.]], dtype=float32)"
      ]
     },
     "execution_count": 82,
     "metadata": {},
     "output_type": "execute_result"
    }
   ],
   "source": [
    "Y_train[0:2]"
   ]
  },
  {
   "cell_type": "code",
   "execution_count": 83,
   "metadata": {},
   "outputs": [],
   "source": [
    "#get number of columns in training data\n",
    "n_cols = X_train.shape[1]"
   ]
  },
  {
   "cell_type": "markdown",
   "metadata": {},
   "source": [
    "#### Attempting SGD"
   ]
  },
  {
   "cell_type": "code",
   "execution_count": 84,
   "metadata": {},
   "outputs": [
    {
     "name": "stdout",
     "output_type": "stream",
     "text": [
      "Epoch 1/30\n",
      "300/300 [==============================] - 1s 2ms/step - loss: 0.2402\n",
      "Epoch 2/30\n",
      "300/300 [==============================] - 0s 280us/step - loss: 0.2170\n",
      "Epoch 3/30\n",
      "300/300 [==============================] - 0s 293us/step - loss: 0.1931\n",
      "Epoch 4/30\n",
      "300/300 [==============================] - 0s 293us/step - loss: 0.1774\n",
      "Epoch 5/30\n",
      "300/300 [==============================] - 0s 286us/step - loss: 0.1655\n",
      "Epoch 6/30\n",
      "300/300 [==============================] - 0s 323us/step - loss: 0.1528\n",
      "Epoch 7/30\n",
      "300/300 [==============================] - 0s 293us/step - loss: 0.1402\n",
      "Epoch 8/30\n",
      "300/300 [==============================] - 0s 303us/step - loss: 0.1321\n",
      "Epoch 9/30\n",
      "300/300 [==============================] - 0s 306us/step - loss: 0.1247\n",
      "Epoch 10/30\n",
      "300/300 [==============================] - 0s 276us/step - loss: 0.1181\n",
      "Epoch 11/30\n",
      "300/300 [==============================] - 0s 273us/step - loss: 0.1118\n",
      "Epoch 12/30\n",
      "300/300 [==============================] - 0s 290us/step - loss: 0.1055\n",
      "Epoch 13/30\n",
      "300/300 [==============================] - 0s 293us/step - loss: 0.1012\n",
      "Epoch 14/30\n",
      "300/300 [==============================] - 0s 273us/step - loss: 0.0956\n",
      "Epoch 15/30\n",
      "300/300 [==============================] - 0s 290us/step - loss: 0.0923\n",
      "Epoch 16/30\n",
      "300/300 [==============================] - 0s 283us/step - loss: 0.0900\n",
      "Epoch 17/30\n",
      "300/300 [==============================] - 0s 290us/step - loss: 0.0847\n",
      "Epoch 18/30\n",
      "300/300 [==============================] - 0s 300us/step - loss: 0.0818\n",
      "Epoch 19/30\n",
      "300/300 [==============================] - 0s 316us/step - loss: 0.0781\n",
      "Epoch 20/30\n",
      "300/300 [==============================] - 0s 326us/step - loss: 0.0757\n",
      "Epoch 21/30\n",
      "300/300 [==============================] - 0s 323us/step - loss: 0.0730\n",
      "Epoch 22/30\n",
      "300/300 [==============================] - 0s 323us/step - loss: 0.0701\n",
      "Epoch 23/30\n",
      "300/300 [==============================] - 0s 313us/step - loss: 0.0683\n",
      "Epoch 24/30\n",
      "300/300 [==============================] - 0s 330us/step - loss: 0.0659\n",
      "Epoch 25/30\n",
      "300/300 [==============================] - 0s 313us/step - loss: 0.0644\n",
      "Epoch 26/30\n",
      "300/300 [==============================] - 0s 306us/step - loss: 0.0627\n",
      "Epoch 27/30\n",
      "300/300 [==============================] - 0s 316us/step - loss: 0.0607\n",
      "Epoch 28/30\n",
      "300/300 [==============================] - 0s 270us/step - loss: 0.0590\n",
      "Epoch 29/30\n",
      "300/300 [==============================] - 0s 283us/step - loss: 0.0581\n",
      "Epoch 30/30\n",
      "300/300 [==============================] - 0s 300us/step - loss: 0.0559\n"
     ]
    },
    {
     "data": {
      "text/plain": [
       "<keras.callbacks.History at 0x1fd12cc2fd0>"
      ]
     },
     "execution_count": 84,
     "metadata": {},
     "output_type": "execute_result"
    }
   ],
   "source": [
    "#create model\n",
    "model= Sequential()\n",
    "#add layers to model \n",
    "model.add(Dense(100, activation='relu', input_shape=(n_cols,)))\n",
    "model.add(Dense(3, activation='softmax'))\n",
    "#compile model with stochastic gradient optimizer\n",
    "model.compile(optimizer=SGD(lr=0.001,decay=1e-6, momentum=0.9, nesterov=True), loss='mean_squared_error' )\n",
    "model.fit(X_train, Y_train, epochs=30, batch_size=64)"
   ]
  },
  {
   "cell_type": "markdown",
   "metadata": {},
   "source": [
    "Attempted epochs from 15-300. The optimizer doesn't converge and loss keeps decreasing. On trying higher learning rates, the optimizer gets stuck at cartain value. Also, without nesterov momentum it gives a much higher loss "
   ]
  },
  {
   "cell_type": "markdown",
   "metadata": {},
   "source": [
    "#### Adam optimizer"
   ]
  },
  {
   "cell_type": "code",
   "execution_count": 85,
   "metadata": {},
   "outputs": [
    {
     "name": "stdout",
     "output_type": "stream",
     "text": [
      "Epoch 1/50\n",
      "300/300 [==============================] - 1s 2ms/step - loss: 0.2320\n",
      "Epoch 2/50\n",
      "300/300 [==============================] - 0s 380us/step - loss: 0.1819\n",
      "Epoch 3/50\n",
      "300/300 [==============================] - 0s 356us/step - loss: 0.1388\n",
      "Epoch 4/50\n",
      "300/300 [==============================] - 0s 370us/step - loss: 0.1096\n",
      "Epoch 5/50\n",
      "300/300 [==============================] - 0s 363us/step - loss: 0.0992\n",
      "Epoch 6/50\n",
      "300/300 [==============================] - 0s 336us/step - loss: 0.0950\n",
      "Epoch 7/50\n",
      "300/300 [==============================] - 0s 370us/step - loss: 0.0770\n",
      "Epoch 8/50\n",
      "300/300 [==============================] - 0s 343us/step - loss: 0.0671\n",
      "Epoch 9/50\n",
      "300/300 [==============================] - 0s 356us/step - loss: 0.0609\n",
      "Epoch 10/50\n",
      "300/300 [==============================] - 0s 353us/step - loss: 0.0563\n",
      "Epoch 11/50\n",
      "300/300 [==============================] - 0s 336us/step - loss: 0.0543\n",
      "Epoch 12/50\n",
      "300/300 [==============================] - 0s 346us/step - loss: 0.0502\n",
      "Epoch 13/50\n",
      "300/300 [==============================] - 0s 356us/step - loss: 0.0506\n",
      "Epoch 14/50\n",
      "300/300 [==============================] - 0s 370us/step - loss: 0.0532\n",
      "Epoch 15/50\n",
      "300/300 [==============================] - 0s 363us/step - loss: 0.0447\n",
      "Epoch 16/50\n",
      "300/300 [==============================] - 0s 363us/step - loss: 0.0398\n",
      "Epoch 17/50\n",
      "300/300 [==============================] - 0s 336us/step - loss: 0.0486\n",
      "Epoch 18/50\n",
      "300/300 [==============================] - 0s 333us/step - loss: 0.0395\n",
      "Epoch 19/50\n",
      "300/300 [==============================] - 0s 363us/step - loss: 0.0346\n",
      "Epoch 20/50\n",
      "300/300 [==============================] - 0s 350us/step - loss: 0.0317\n",
      "Epoch 21/50\n",
      "300/300 [==============================] - 0s 343us/step - loss: 0.0321\n",
      "Epoch 22/50\n",
      "300/300 [==============================] - 0s 390us/step - loss: 0.0314\n",
      "Epoch 23/50\n",
      "300/300 [==============================] - 0s 360us/step - loss: 0.0295\n",
      "Epoch 24/50\n",
      "300/300 [==============================] - 0s 353us/step - loss: 0.0275\n",
      "Epoch 25/50\n",
      "300/300 [==============================] - 0s 350us/step - loss: 0.0214\n",
      "Epoch 26/50\n",
      "300/300 [==============================] - 0s 363us/step - loss: 0.0208\n",
      "Epoch 27/50\n",
      "300/300 [==============================] - 0s 366us/step - loss: 0.0217\n",
      "Epoch 28/50\n",
      "300/300 [==============================] - 0s 353us/step - loss: 0.0196\n",
      "Epoch 29/50\n",
      "300/300 [==============================] - 0s 360us/step - loss: 0.0178\n",
      "Epoch 30/50\n",
      "300/300 [==============================] - 0s 333us/step - loss: 0.0178\n",
      "Epoch 31/50\n",
      "300/300 [==============================] - 0s 336us/step - loss: 0.0169\n",
      "Epoch 32/50\n",
      "300/300 [==============================] - 0s 350us/step - loss: 0.0161\n",
      "Epoch 33/50\n",
      "300/300 [==============================] - 0s 340us/step - loss: 0.0146\n",
      "Epoch 34/50\n",
      "300/300 [==============================] - 0s 343us/step - loss: 0.0142\n",
      "Epoch 35/50\n",
      "300/300 [==============================] - 0s 373us/step - loss: 0.0136\n",
      "Epoch 36/50\n",
      "300/300 [==============================] - 0s 360us/step - loss: 0.0132\n",
      "Epoch 37/50\n",
      "300/300 [==============================] - 0s 360us/step - loss: 0.0137\n",
      "Epoch 38/50\n",
      "300/300 [==============================] - 0s 340us/step - loss: 0.0131\n",
      "Epoch 39/50\n",
      "300/300 [==============================] - 0s 336us/step - loss: 0.0126\n",
      "Epoch 40/50\n",
      "300/300 [==============================] - 0s 350us/step - loss: 0.0128\n",
      "Epoch 41/50\n",
      "300/300 [==============================] - 0s 353us/step - loss: 0.0117\n",
      "Epoch 42/50\n",
      "300/300 [==============================] - 0s 376us/step - loss: 0.0115\n",
      "Epoch 43/50\n",
      "300/300 [==============================] - 0s 353us/step - loss: 0.0107\n",
      "Epoch 44/50\n",
      "300/300 [==============================] - 0s 356us/step - loss: 0.0099\n",
      "Epoch 45/50\n",
      "300/300 [==============================] - 0s 356us/step - loss: 0.0096\n",
      "Epoch 46/50\n",
      "300/300 [==============================] - 0s 343us/step - loss: 0.0088\n",
      "Epoch 47/50\n",
      "300/300 [==============================] - 0s 350us/step - loss: 0.0087\n",
      "Epoch 48/50\n",
      "300/300 [==============================] - 0s 330us/step - loss: 0.0101\n",
      "Epoch 49/50\n",
      "300/300 [==============================] - 0s 336us/step - loss: 0.0093\n",
      "Epoch 50/50\n",
      "300/300 [==============================] - 0s 343us/step - loss: 0.0079\n"
     ]
    },
    {
     "data": {
      "text/plain": [
       "<keras.callbacks.History at 0x1fd12edcfd0>"
      ]
     },
     "execution_count": 85,
     "metadata": {},
     "output_type": "execute_result"
    }
   ],
   "source": [
    "model1 = Sequential() \n",
    "model1.add(Dense(100, activation='relu', input_shape=(n_cols,)))\n",
    "model1.add(Dense(3, activation='softmax'))\n",
    "#compile model with adam optimizer\n",
    "model1.compile(optimizer=Adam(lr=0.0001, beta_1=0.9, beta_2=0.999, epsilon=None, decay=0.0, amsgrad=False), loss='mean_squared_error' )\n",
    "model1.fit(X_train, Y_train, epochs=50, batch_size=64)"
   ]
  },
  {
   "cell_type": "markdown",
   "metadata": {},
   "source": [
    "With a learning rate >0.001 Adam loss does not move beyond 0.48. "
   ]
  },
  {
   "cell_type": "code",
   "execution_count": 86,
   "metadata": {},
   "outputs": [
    {
     "data": {
      "text/plain": [
       "array([[1., 0., 0.]], dtype=float32)"
      ]
     },
     "execution_count": 86,
     "metadata": {},
     "output_type": "execute_result"
    }
   ],
   "source": [
    "X_test = generate_a_rectangle()\n",
    "X_test = X_test.reshape(1, X_test.shape[0])\n",
    "model1.predict(X_test)\n",
    "#np.argmax(model.predict(X_test),axis=1)"
   ]
  },
  {
   "cell_type": "code",
   "execution_count": 87,
   "metadata": {},
   "outputs": [
    {
     "data": {
      "text/plain": [
       "array([[0., 1., 0.]], dtype=float32)"
      ]
     },
     "execution_count": 87,
     "metadata": {},
     "output_type": "execute_result"
    }
   ],
   "source": [
    "X_test = generate_a_disk()\n",
    "X_test = X_test.reshape(1, X_test.shape[0])\n",
    "model1.predict(X_test)\n",
    "#np.argmax(model.predict(X_test),axis=1)"
   ]
  },
  {
   "cell_type": "code",
   "execution_count": 88,
   "metadata": {},
   "outputs": [
    {
     "data": {
      "text/plain": [
       "array([[0., 0., 1.]], dtype=float32)"
      ]
     },
     "execution_count": 88,
     "metadata": {},
     "output_type": "execute_result"
    }
   ],
   "source": [
    "X_test = generate_a_triangle()[0]\n",
    "X_test = X_test.reshape(1, X_test.shape[0])\n",
    "model1.predict(X_test)\n",
    "#np.argmax(model.predict(X_test),axis=1)"
   ]
  },
  {
   "cell_type": "code",
   "execution_count": 89,
   "metadata": {},
   "outputs": [
    {
     "data": {
      "text/plain": [
       "array([[1., 0., 0.]], dtype=float32)"
      ]
     },
     "execution_count": 89,
     "metadata": {},
     "output_type": "execute_result"
    }
   ],
   "source": [
    "X_test = generate_a_rectangle()\n",
    "X_test = X_test.reshape(1, X_test.shape[0])\n",
    "model.predict(X_test)\n",
    "#np.argmax(model.predict(X_test),axis=1)"
   ]
  },
  {
   "cell_type": "code",
   "execution_count": 90,
   "metadata": {},
   "outputs": [
    {
     "data": {
      "text/plain": [
       "array([[0., 1., 0.]], dtype=float32)"
      ]
     },
     "execution_count": 90,
     "metadata": {},
     "output_type": "execute_result"
    }
   ],
   "source": [
    "X_test = generate_a_disk()\n",
    "X_test = X_test.reshape(1, X_test.shape[0])\n",
    "model.predict(X_test)\n",
    "#np.argmax(model.predict(X_test),axis=1)"
   ]
  },
  {
   "cell_type": "code",
   "execution_count": 91,
   "metadata": {},
   "outputs": [
    {
     "data": {
      "text/plain": [
       "array([[0., 0., 1.]], dtype=float32)"
      ]
     },
     "execution_count": 91,
     "metadata": {},
     "output_type": "execute_result"
    }
   ],
   "source": [
    "X_test = generate_a_triangle()[0]\n",
    "X_test = X_test.reshape(1, X_test.shape[0])\n",
    "model.predict(X_test)\n",
    "#np.argmax(model.predict(X_test),axis=1)"
   ]
  },
  {
   "cell_type": "markdown",
   "metadata": {},
   "source": [
    "Both optimizers have given correct predictions. However they dont appear to converge fast. Also, adam requires a lower learning rate for this result"
   ]
  },
  {
   "cell_type": "markdown",
   "metadata": {},
   "source": [
    "### Question 4 - Visualization of weights"
   ]
  },
  {
   "cell_type": "code",
   "execution_count": 103,
   "metadata": {},
   "outputs": [
    {
     "name": "stdout",
     "output_type": "stream",
     "text": [
      "(5184, 100)\n",
      "(100,)\n",
      "(100, 3)\n",
      "(3,)\n"
     ]
    }
   ],
   "source": [
    "w1 = model1.get_weights()\n",
    "for w in w1:\n",
    "    print(w.shape)"
   ]
  },
  {
   "cell_type": "code",
   "execution_count": 105,
   "metadata": {},
   "outputs": [
    {
     "data": {
      "text/plain": [
       "<matplotlib.image.AxesImage at 0x1fd1445eba8>"
      ]
     },
     "execution_count": 105,
     "metadata": {},
     "output_type": "execute_result"
    },
    {
     "data": {
      "image/png": "[encoded data removed]",
      "text/plain": [
       "<Figure size 432x288 with 1 Axes>"
      ]
     },
     "metadata": {},
     "output_type": "display_data"
    }
   ],
   "source": [
    "I = w1[0].reshape(100,5184)\n",
    "plt.imshow(I, cmap = cm.Blues)\n"
   ]
  },
  {
   "cell_type": "code",
   "execution_count": 107,
   "metadata": {},
   "outputs": [
    {
     "data": {
      "text/plain": [
       "<matplotlib.image.AxesImage at 0x1fd144f09b0>"
      ]
     },
     "execution_count": 107,
     "metadata": {},
     "output_type": "execute_result"
    },
    {
     "data": {
      "image/png": "[encoded data removed]",
      "text/plain": [
       "<Figure size 432x288 with 1 Axes>"
      ]
     },
     "metadata": {},
     "output_type": "display_data"
    }
   ],
   "source": [
    "I = w1[2].reshape(10,30)\n",
    "plt.imshow(I, cmap = cm.Blues)\n"
   ]
  },
  {
   "cell_type": "markdown",
   "metadata": {},
   "source": [
    "### Question 5 - More Difficult Classification"
   ]
  },
  {
   "cell_type": "code",
   "execution_count": 125,
   "metadata": {},
   "outputs": [
    {
     "name": "stdout",
     "output_type": "stream",
     "text": [
      "Creating data:\n",
      "0\n",
      "10\n",
      "20\n",
      "30\n",
      "40\n",
      "50\n",
      "60\n",
      "70\n",
      "80\n",
      "90\n",
      "100\n",
      "110\n",
      "120\n",
      "130\n",
      "140\n",
      "150\n",
      "160\n",
      "170\n",
      "180\n",
      "190\n",
      "200\n",
      "210\n",
      "220\n",
      "230\n",
      "240\n",
      "250\n",
      "260\n",
      "270\n",
      "280\n",
      "290\n",
      "300\n",
      "310\n",
      "320\n",
      "330\n",
      "340\n",
      "350\n",
      "360\n",
      "370\n",
      "380\n",
      "390\n",
      "400\n",
      "410\n",
      "420\n",
      "430\n",
      "440\n",
      "450\n",
      "460\n",
      "470\n",
      "480\n",
      "490\n",
      "500\n",
      "510\n",
      "520\n",
      "530\n",
      "540\n",
      "550\n",
      "560\n",
      "570\n",
      "580\n",
      "590\n",
      "600\n",
      "610\n",
      "620\n",
      "630\n",
      "640\n",
      "650\n",
      "660\n",
      "670\n",
      "680\n",
      "690\n",
      "700\n",
      "710\n",
      "720\n",
      "730\n",
      "740\n",
      "750\n",
      "760\n",
      "770\n",
      "780\n",
      "790\n",
      "800\n",
      "810\n",
      "820\n",
      "830\n",
      "840\n",
      "850\n",
      "860\n",
      "870\n",
      "880\n",
      "890\n",
      "900\n",
      "910\n",
      "920\n",
      "930\n",
      "940\n",
      "950\n",
      "960\n",
      "970\n",
      "980\n",
      "990\n"
     ]
    }
   ],
   "source": [
    "[X_train, Y_train] = generate_dataset_classification(1000, 20, True)"
   ]
  },
  {
   "cell_type": "code",
   "execution_count": 126,
   "metadata": {},
   "outputs": [],
   "source": [
    "Y_train= np_utils.to_categorical(Y_train, 3)"
   ]
  },
  {
   "cell_type": "markdown",
   "metadata": {},
   "source": [
    "Using the previous network on the noisy data to see the loss. "
   ]
  },
  {
   "cell_type": "code",
   "execution_count": 128,
   "metadata": {},
   "outputs": [
    {
     "name": "stdout",
     "output_type": "stream",
     "text": [
      "Epoch 1/10\n",
      "1000/1000 [==============================] - 2s 2ms/step - loss: 1.2355 - acc: 0.3780\n",
      "Epoch 2/10\n",
      "1000/1000 [==============================] - 0s 385us/step - loss: 1.0707 - acc: 0.4200\n",
      "Epoch 3/10\n",
      "1000/1000 [==============================] - 0s 382us/step - loss: 1.0110 - acc: 0.4530\n",
      "Epoch 4/10\n",
      "1000/1000 [==============================] - 0s 405us/step - loss: 1.0111 - acc: 0.4700\n",
      "Epoch 5/10\n",
      "1000/1000 [==============================] - 0s 390us/step - loss: 0.9455 - acc: 0.4970\n",
      "Epoch 6/10\n",
      "1000/1000 [==============================] - 0s 375us/step - loss: 0.9000 - acc: 0.5270\n",
      "Epoch 7/10\n",
      "1000/1000 [==============================] - 0s 401us/step - loss: 0.8867 - acc: 0.5300\n",
      "Epoch 8/10\n",
      "1000/1000 [==============================] - 0s 393us/step - loss: 0.8903 - acc: 0.5550\n",
      "Epoch 9/10\n",
      "1000/1000 [==============================] - 0s 395us/step - loss: 0.8697 - acc: 0.5530\n",
      "Epoch 10/10\n",
      "1000/1000 [==============================] - 0s 389us/step - loss: 0.8500 - acc: 0.5700\n"
     ]
    },
    {
     "data": {
      "text/plain": [
       "<keras.callbacks.History at 0x1d6d46ceeb8>"
      ]
     },
     "execution_count": 128,
     "metadata": {},
     "output_type": "execute_result"
    }
   ],
   "source": [
    "model2 = Sequential() \n",
    "model2.add(Dense(100, activation='relu', input_shape=(n_cols,)))\n",
    "model2.add(Dense(3, activation='softmax'))\n",
    "#compile model with adam optimizer\n",
    "model2.compile(optimizer=Adam(lr=0.0001, beta_1=0.9, beta_2=0.999, epsilon=None, decay=0.0, amsgrad=False), loss='categorical_crossentropy', metrics=['accuracy'] )\n",
    "model2.fit(X_train, Y_train, epochs=10, batch_size=64)"
   ]
  },
  {
   "cell_type": "markdown",
   "metadata": {},
   "source": [
    "With the previous network is relatively high in 10 epochs(using categorical cross entropy). Now let's try on a convolutional network."
   ]
  },
  {
   "cell_type": "code",
   "execution_count": 129,
   "metadata": {},
   "outputs": [],
   "source": [
    "X_train = X_train.reshape(X_train.shape[0], 72, 72,1)"
   ]
  },
  {
   "cell_type": "code",
   "execution_count": 130,
   "metadata": {},
   "outputs": [
    {
     "data": {
      "text/plain": [
       "(1000, 72, 72, 1)"
      ]
     },
     "execution_count": 130,
     "metadata": {},
     "output_type": "execute_result"
    }
   ],
   "source": [
    "X_train.shape"
   ]
  },
  {
   "cell_type": "code",
   "execution_count": 135,
   "metadata": {},
   "outputs": [],
   "source": [
    "\n",
    "#add layers to model\n",
    "model3 = Sequential()\n",
    "#Using a single convolutional layer with 16 5x5 filters\n",
    "model3.add(Conv2D(16,(5,5), activation='relu', input_shape=(72,72,1)))\n",
    "model3.add(MaxPooling2D(pool_size=(2,2)))\n",
    "model3.add(Flatten())\n",
    "model3.add(Dense(3, activation='softmax'))"
   ]
  },
  {
   "cell_type": "code",
   "execution_count": 136,
   "metadata": {},
   "outputs": [
    {
     "data": {
      "text/plain": [
       "(None, 3)"
      ]
     },
     "execution_count": 136,
     "metadata": {},
     "output_type": "execute_result"
    }
   ],
   "source": [
    "model3.output_shape"
   ]
  },
  {
   "cell_type": "code",
   "execution_count": 137,
   "metadata": {},
   "outputs": [],
   "source": [
    "#compile model with adam\n",
    "#sgd = SGD(lr=0.01, decay=1e-6, momentum=0.9, nesterov=True)\n",
    "adam=Adam(lr=0.001, beta_1=0.9, beta_2=0.999, epsilon=None, decay=0.0, amsgrad=False)\n",
    "model3.compile(optimizer=adam, loss='categorical_crossentropy',metrics=['accuracy'])"
   ]
  },
  {
   "cell_type": "code",
   "execution_count": 138,
   "metadata": {},
   "outputs": [
    {
     "name": "stdout",
     "output_type": "stream",
     "text": [
      "Epoch 1/20\n",
      "1000/1000 [==============================] - 6s 6ms/step - loss: 1.0791 - acc: 0.4920\n",
      "Epoch 2/20\n",
      "1000/1000 [==============================] - 4s 4ms/step - loss: 0.7521 - acc: 0.6970\n",
      "Epoch 3/20\n",
      "1000/1000 [==============================] - 4s 4ms/step - loss: 0.6772 - acc: 0.7300\n",
      "Epoch 4/20\n",
      "1000/1000 [==============================] - 4s 4ms/step - loss: 0.6032 - acc: 0.7640\n",
      "Epoch 5/20\n",
      "1000/1000 [==============================] - 4s 4ms/step - loss: 0.5291 - acc: 0.8180\n",
      "Epoch 6/20\n",
      "1000/1000 [==============================] - 4s 4ms/step - loss: 0.4960 - acc: 0.8370\n",
      "Epoch 7/20\n",
      "1000/1000 [==============================] - 5s 5ms/step - loss: 0.4922 - acc: 0.8120\n",
      "Epoch 8/20\n",
      "1000/1000 [==============================] - 4s 4ms/step - loss: 0.4317 - acc: 0.8630\n",
      "Epoch 9/20\n",
      "1000/1000 [==============================] - 4s 4ms/step - loss: 0.4155 - acc: 0.8550\n",
      "Epoch 10/20\n",
      "1000/1000 [==============================] - 5s 5ms/step - loss: 0.3695 - acc: 0.8870\n",
      "Epoch 11/20\n",
      "1000/1000 [==============================] - 5s 5ms/step - loss: 0.3367 - acc: 0.9020\n",
      "Epoch 12/20\n",
      "1000/1000 [==============================] - 5s 5ms/step - loss: 0.3200 - acc: 0.9090\n",
      "Epoch 13/20\n",
      "1000/1000 [==============================] - 5s 5ms/step - loss: 0.2935 - acc: 0.9260\n",
      "Epoch 14/20\n",
      "1000/1000 [==============================] - 5s 5ms/step - loss: 0.2644 - acc: 0.9230\n",
      "Epoch 15/20\n",
      "1000/1000 [==============================] - 5s 5ms/step - loss: 0.2526 - acc: 0.9370\n",
      "Epoch 16/20\n",
      "1000/1000 [==============================] - 5s 5ms/step - loss: 0.2401 - acc: 0.9380\n",
      "Epoch 17/20\n",
      "1000/1000 [==============================] - 5s 5ms/step - loss: 0.2113 - acc: 0.9490\n",
      "Epoch 18/20\n",
      "1000/1000 [==============================] - 5s 5ms/step - loss: 0.1985 - acc: 0.9560\n",
      "Epoch 19/20\n",
      "1000/1000 [==============================] - 5s 5ms/step - loss: 0.1802 - acc: 0.9650\n",
      "Epoch 20/20\n",
      "1000/1000 [==============================] - 5s 5ms/step - loss: 0.1704 - acc: 0.9600A: 3s - los\n"
     ]
    },
    {
     "data": {
      "text/plain": [
       "<keras.callbacks.History at 0x1d6b1410320>"
      ]
     },
     "execution_count": 138,
     "metadata": {},
     "output_type": "execute_result"
    }
   ],
   "source": [
    "model3.fit(X_train, Y_train, epochs=20, batch_size=32)"
   ]
  },
  {
   "cell_type": "markdown",
   "metadata": {},
   "source": [
    "Using adam gives a better training accuracy and loss than sgd in this case. Also it is clear that we are able to achieve much better results than the linear classifier."
   ]
  },
  {
   "cell_type": "code",
   "execution_count": 139,
   "metadata": {},
   "outputs": [
    {
     "name": "stdout",
     "output_type": "stream",
     "text": [
      "Creating data:\n",
      "0\n",
      "10\n",
      "20\n",
      "30\n",
      "40\n",
      "50\n",
      "60\n",
      "70\n",
      "80\n",
      "90\n",
      "100\n",
      "110\n",
      "120\n",
      "130\n",
      "140\n",
      "150\n",
      "160\n",
      "170\n",
      "180\n",
      "190\n",
      "200\n",
      "210\n",
      "220\n",
      "230\n",
      "240\n",
      "250\n",
      "260\n",
      "270\n",
      "280\n",
      "290\n"
     ]
    }
   ],
   "source": [
    "[X_test, Y_test] = generate_test_set_classification()"
   ]
  },
  {
   "cell_type": "code",
   "execution_count": 140,
   "metadata": {},
   "outputs": [
    {
     "data": {
      "text/plain": [
       "(300, 5184)"
      ]
     },
     "execution_count": 140,
     "metadata": {},
     "output_type": "execute_result"
    }
   ],
   "source": [
    "X_test.shape"
   ]
  },
  {
   "cell_type": "code",
   "execution_count": 141,
   "metadata": {},
   "outputs": [],
   "source": [
    "X_test=X_test.reshape(300,72,72,1)"
   ]
  },
  {
   "cell_type": "code",
   "execution_count": 142,
   "metadata": {
    "scrolled": true
   },
   "outputs": [
    {
     "name": "stdout",
     "output_type": "stream",
     "text": [
      "300/300 [==============================] - 1s 5ms/step\n",
      "Test score: 0.4095084985097249\n",
      "Test accuracy: 0.8533333325386048\n"
     ]
    }
   ],
   "source": [
    "score,acc=model3.evaluate(X_test, Y_test)\n",
    "print('Test score:', score)\n",
    "print('Test accuracy:', acc)"
   ]
  },
  {
   "cell_type": "markdown",
   "metadata": {},
   "source": [
    "Tried with training set of 300 rows and 1000 rows. Test accuracy improved from 64 to 85"
   ]
  },
  {
   "cell_type": "markdown",
   "metadata": {},
   "source": [
    "Adding additional convolutional layer to see if there's an improvement"
   ]
  },
  {
   "cell_type": "code",
   "execution_count": 145,
   "metadata": {},
   "outputs": [
    {
     "name": "stdout",
     "output_type": "stream",
     "text": [
      "Epoch 1/15\n",
      "1000/1000 [==============================] - 9s 9ms/step - loss: 1.2938 - acc: 0.4970\n",
      "Epoch 2/15\n",
      "1000/1000 [==============================] - 8s 8ms/step - loss: 0.7203 - acc: 0.7000\n",
      "Epoch 3/15\n",
      "1000/1000 [==============================] - 8s 8ms/step - loss: 0.4687 - acc: 0.8510\n",
      "Epoch 4/15\n",
      "1000/1000 [==============================] - 8s 8ms/step - loss: 0.2357 - acc: 0.9290\n",
      "Epoch 5/15\n",
      "1000/1000 [==============================] - 9s 9ms/step - loss: 0.2945 - acc: 0.9170\n",
      "Epoch 6/15\n",
      "1000/1000 [==============================] - 10s 10ms/step - loss: 0.3081 - acc: 0.9130\n",
      "Epoch 7/15\n",
      "1000/1000 [==============================] - 9s 9ms/step - loss: 0.1805 - acc: 0.9400\n",
      "Epoch 8/15\n",
      "1000/1000 [==============================] - 9s 9ms/step - loss: 0.1729 - acc: 0.9590\n",
      "Epoch 9/15\n",
      "1000/1000 [==============================] - 8s 8ms/step - loss: 0.1626 - acc: 0.9660\n",
      "Epoch 10/15\n",
      "1000/1000 [==============================] - 9s 9ms/step - loss: 0.0972 - acc: 0.9730\n",
      "Epoch 11/15\n",
      "1000/1000 [==============================] - 9s 9ms/step - loss: 0.0884 - acc: 0.9760\n",
      "Epoch 12/15\n",
      "1000/1000 [==============================] - 9s 9ms/step - loss: 0.0659 - acc: 0.9830\n",
      "Epoch 13/15\n",
      "1000/1000 [==============================] - 9s 9ms/step - loss: 0.0529 - acc: 0.9850\n",
      "Epoch 14/15\n",
      "1000/1000 [==============================] - 9s 9ms/step - loss: 0.0465 - acc: 0.9890\n",
      "Epoch 15/15\n",
      "1000/1000 [==============================] - 10s 10ms/step - loss: 0.0420 - acc: 0.9950\n"
     ]
    },
    {
     "data": {
      "text/plain": [
       "<keras.callbacks.History at 0x1d6bac8fd30>"
      ]
     },
     "execution_count": 145,
     "metadata": {},
     "output_type": "execute_result"
    }
   ],
   "source": [
    "\n",
    "model4 = Sequential()\n",
    "model4.add(Conv2D(16,(5,5), activation='relu', input_shape=(72,72,1)))\n",
    "model4.add(MaxPooling2D(pool_size=(2,2)))\n",
    "model4.add(Conv2D(16,(3,3), activation='relu'))\n",
    "model4.add(Flatten())\n",
    "model4.add(Dense(3, activation='softmax'))\n",
    "model4.compile(optimizer=adam, loss='categorical_crossentropy',metrics=['accuracy'])\n",
    "model4.fit(X_train, Y_train, epochs=15, batch_size=32)"
   ]
  },
  {
   "cell_type": "markdown",
   "metadata": {},
   "source": [
    "Achieved much lower training loss. Possibly overfitting "
   ]
  },
  {
   "cell_type": "code",
   "execution_count": 146,
   "metadata": {},
   "outputs": [
    {
     "name": "stdout",
     "output_type": "stream",
     "text": [
      "300/300 [==============================] - 2s 5ms/step\n",
      "Test score: 0.2185652236143748\n",
      "Test accuracy: 0.946666665871938\n"
     ]
    }
   ],
   "source": [
    "score,acc=model4.evaluate(X_test, Y_test)\n",
    "print('Test score:', score)\n",
    "print('Test accuracy:', acc)"
   ]
  },
  {
   "cell_type": "markdown",
   "metadata": {},
   "source": [
    "Adding the convolutional layer has improved test accuracy to 94"
   ]
  },
  {
   "cell_type": "markdown",
   "metadata": {},
   "source": [
    "Including dropout of 20% after each layer to minimize overfitting "
   ]
  },
  {
   "cell_type": "code",
   "execution_count": 148,
   "metadata": {},
   "outputs": [
    {
     "name": "stdout",
     "output_type": "stream",
     "text": [
      "Epoch 1/15\n",
      "1000/1000 [==============================] - 10s 10ms/step - loss: 0.9978 - acc: 0.5150\n",
      "Epoch 2/15\n",
      "1000/1000 [==============================] - 10s 10ms/step - loss: 0.7727 - acc: 0.6640\n",
      "Epoch 3/15\n",
      "1000/1000 [==============================] - 10s 10ms/step - loss: 0.6127 - acc: 0.7670\n",
      "Epoch 4/15\n",
      "1000/1000 [==============================] - 9s 9ms/step - loss: 0.4748 - acc: 0.8200\n",
      "Epoch 5/15\n",
      "1000/1000 [==============================] - 10s 10ms/step - loss: 0.3726 - acc: 0.8690\n",
      "Epoch 6/15\n",
      "1000/1000 [==============================] - 11s 11ms/step - loss: 0.3069 - acc: 0.8940\n",
      "Epoch 7/15\n",
      "1000/1000 [==============================] - 13s 13ms/step - loss: 0.2669 - acc: 0.9130\n",
      "Epoch 8/15\n",
      "1000/1000 [==============================] - 13s 13ms/step - loss: 0.1890 - acc: 0.9520\n",
      "Epoch 9/15\n",
      "1000/1000 [==============================] - 12s 12ms/step - loss: 0.1631 - acc: 0.9490\n",
      "Epoch 10/15\n",
      "1000/1000 [==============================] - 14s 14ms/step - loss: 0.1269 - acc: 0.9720\n",
      "Epoch 11/15\n",
      "1000/1000 [==============================] - 14s 14ms/step - loss: 0.1121 - acc: 0.9780\n",
      "Epoch 12/15\n",
      "1000/1000 [==============================] - 15s 15ms/step - loss: 0.1072 - acc: 0.9760\n",
      "Epoch 13/15\n",
      "1000/1000 [==============================] - 15s 15ms/step - loss: 0.0816 - acc: 0.9930\n",
      "Epoch 14/15\n",
      "1000/1000 [==============================] - 16s 16ms/step - loss: 0.0727 - acc: 0.9900\n",
      "Epoch 15/15\n",
      "1000/1000 [==============================] - 15s 15ms/step - loss: 0.0693 - acc: 0.9900\n"
     ]
    },
    {
     "data": {
      "text/plain": [
       "<keras.callbacks.History at 0x1d6bb2e7eb8>"
      ]
     },
     "execution_count": 148,
     "metadata": {},
     "output_type": "execute_result"
    }
   ],
   "source": [
    "\n",
    "model5 = Sequential()\n",
    "model5.add(Conv2D(16,(5,5), activation='relu', input_shape=(72,72,1)))\n",
    "model5.add(Dropout(0.2))\n",
    "model5.add(MaxPooling2D(pool_size=(2,2)))\n",
    "model5.add(Conv2D(16,(3,3), activation='relu'))\n",
    "model5.add(Dropout(0.2))\n",
    "model5.add(Flatten())\n",
    "model5.add(Dense(3, activation='softmax'))\n",
    "model5.compile(optimizer=adam, loss='categorical_crossentropy',metrics=['accuracy'])\n",
    "model5.fit(X_train, Y_train, epochs=15, batch_size=32)"
   ]
  },
  {
   "cell_type": "code",
   "execution_count": 149,
   "metadata": {},
   "outputs": [
    {
     "name": "stdout",
     "output_type": "stream",
     "text": [
      "300/300 [==============================] - 3s 10ms/step\n",
      "Test score: 0.4198941707611084\n",
      "Test accuracy: 0.8466666666666667\n"
     ]
    }
   ],
   "source": [
    "score,acc=model5.evaluate(X_test, Y_test)\n",
    "print('Test score:', score)\n",
    "print('Test accuracy:', acc)"
   ]
  },
  {
   "cell_type": "markdown",
   "metadata": {},
   "source": [
    "Including dropout decreased test accuracy. "
   ]
  },
  {
   "cell_type": "markdown",
   "metadata": {},
   "source": [
    "### Question 6 - Regression"
   ]
  },
  {
   "cell_type": "code",
   "execution_count": 179,
   "metadata": {},
   "outputs": [
    {
     "name": "stdout",
     "output_type": "stream",
     "text": [
      "Creating data:\n",
      "0\n",
      "10\n",
      "20\n",
      "30\n",
      "40\n",
      "50\n",
      "60\n",
      "70\n",
      "80\n",
      "90\n",
      "100\n",
      "110\n",
      "120\n",
      "130\n",
      "140\n",
      "150\n",
      "160\n",
      "170\n",
      "180\n",
      "190\n",
      "200\n",
      "210\n",
      "220\n",
      "230\n",
      "240\n",
      "250\n",
      "260\n",
      "270\n",
      "280\n",
      "290\n",
      "300\n",
      "310\n",
      "320\n",
      "330\n",
      "340\n",
      "350\n",
      "360\n",
      "370\n",
      "380\n",
      "390\n",
      "400\n",
      "410\n",
      "420\n",
      "430\n",
      "440\n",
      "450\n",
      "460\n",
      "470\n",
      "480\n",
      "490\n",
      "500\n",
      "510\n",
      "520\n",
      "530\n",
      "540\n",
      "550\n",
      "560\n",
      "570\n",
      "580\n",
      "590\n",
      "600\n",
      "610\n",
      "620\n",
      "630\n",
      "640\n",
      "650\n",
      "660\n",
      "670\n",
      "680\n",
      "690\n",
      "700\n",
      "710\n",
      "720\n",
      "730\n",
      "740\n",
      "750\n",
      "760\n",
      "770\n",
      "780\n",
      "790\n",
      "800\n",
      "810\n",
      "820\n",
      "830\n",
      "840\n",
      "850\n",
      "860\n",
      "870\n",
      "880\n",
      "890\n",
      "900\n",
      "910\n",
      "920\n",
      "930\n",
      "940\n",
      "950\n",
      "960\n",
      "970\n",
      "980\n",
      "990\n",
      "1000\n",
      "1010\n",
      "1020\n",
      "1030\n",
      "1040\n",
      "1050\n",
      "1060\n",
      "1070\n",
      "1080\n",
      "1090\n",
      "1100\n",
      "1110\n",
      "1120\n",
      "1130\n",
      "1140\n",
      "1150\n",
      "1160\n",
      "1170\n",
      "1180\n",
      "1190\n",
      "1200\n",
      "1210\n",
      "1220\n",
      "1230\n",
      "1240\n",
      "1250\n",
      "1260\n",
      "1270\n",
      "1280\n",
      "1290\n",
      "1300\n",
      "1310\n",
      "1320\n",
      "1330\n",
      "1340\n",
      "1350\n",
      "1360\n",
      "1370\n",
      "1380\n",
      "1390\n",
      "1400\n",
      "1410\n",
      "1420\n",
      "1430\n",
      "1440\n",
      "1450\n",
      "1460\n",
      "1470\n",
      "1480\n",
      "1490\n",
      "1500\n",
      "1510\n",
      "1520\n",
      "1530\n",
      "1540\n",
      "1550\n",
      "1560\n",
      "1570\n",
      "1580\n",
      "1590\n",
      "1600\n",
      "1610\n",
      "1620\n",
      "1630\n",
      "1640\n",
      "1650\n",
      "1660\n",
      "1670\n",
      "1680\n",
      "1690\n",
      "1700\n",
      "1710\n",
      "1720\n",
      "1730\n",
      "1740\n",
      "1750\n",
      "1760\n",
      "1770\n",
      "1780\n",
      "1790\n",
      "1800\n",
      "1810\n",
      "1820\n",
      "1830\n",
      "1840\n",
      "1850\n",
      "1860\n",
      "1870\n",
      "1880\n",
      "1890\n",
      "1900\n",
      "1910\n",
      "1920\n",
      "1930\n",
      "1940\n",
      "1950\n",
      "1960\n",
      "1970\n",
      "1980\n",
      "1990\n",
      "2000\n",
      "2010\n",
      "2020\n",
      "2030\n",
      "2040\n",
      "2050\n",
      "2060\n",
      "2070\n",
      "2080\n",
      "2090\n",
      "2100\n",
      "2110\n",
      "2120\n",
      "2130\n",
      "2140\n",
      "2150\n",
      "2160\n",
      "2170\n",
      "2180\n",
      "2190\n",
      "2200\n",
      "2210\n",
      "2220\n",
      "2230\n",
      "2240\n",
      "2250\n",
      "2260\n",
      "2270\n",
      "2280\n",
      "2290\n",
      "2300\n",
      "2310\n",
      "2320\n",
      "2330\n",
      "2340\n",
      "2350\n",
      "2360\n",
      "2370\n",
      "2380\n",
      "2390\n",
      "2400\n",
      "2410\n",
      "2420\n",
      "2430\n",
      "2440\n",
      "2450\n",
      "2460\n",
      "2470\n",
      "2480\n",
      "2490\n",
      "2500\n",
      "2510\n",
      "2520\n",
      "2530\n",
      "2540\n",
      "2550\n",
      "2560\n",
      "2570\n",
      "2580\n",
      "2590\n",
      "2600\n",
      "2610\n",
      "2620\n",
      "2630\n",
      "2640\n",
      "2650\n",
      "2660\n",
      "2670\n",
      "2680\n",
      "2690\n",
      "2700\n",
      "2710\n",
      "2720\n",
      "2730\n",
      "2740\n",
      "2750\n",
      "2760\n",
      "2770\n",
      "2780\n",
      "2790\n",
      "2800\n",
      "2810\n",
      "2820\n",
      "2830\n",
      "2840\n",
      "2850\n",
      "2860\n",
      "2870\n",
      "2880\n",
      "2890\n",
      "2900\n",
      "2910\n",
      "2920\n",
      "2930\n",
      "2940\n",
      "2950\n",
      "2960\n",
      "2970\n",
      "2980\n",
      "2990\n"
     ]
    }
   ],
   "source": [
    "[X_train, Y_train] = generate_dataset_regression(3000, 20)"
   ]
  },
  {
   "cell_type": "code",
   "execution_count": 180,
   "metadata": {},
   "outputs": [
    {
     "data": {
      "text/plain": [
       "(3000, 5184)"
      ]
     },
     "execution_count": 180,
     "metadata": {},
     "output_type": "execute_result"
    }
   ],
   "source": [
    "X_train.shape\n"
   ]
  },
  {
   "cell_type": "markdown",
   "metadata": {},
   "source": [
    "Normalizing the Y train data by sorting the vertices along the X axis in order to better train the model"
   ]
  },
  {
   "cell_type": "code",
   "execution_count": 181,
   "metadata": {},
   "outputs": [],
   "source": [
    "x_coords=Y_train[:,[0,2,4]]\n",
    "y_coords=Y_train[:,[1,3,5]]\n",
    "for i in range(len(x_coords)):\n",
    "    x_coords[i,], y_coords[i,] = zip(*sorted(zip(x_coords[i,], y_coords[i,])))"
   ]
  },
  {
   "cell_type": "code",
   "execution_count": 182,
   "metadata": {},
   "outputs": [
    {
     "data": {
      "text/plain": [
       "6"
      ]
     },
     "execution_count": 182,
     "metadata": {},
     "output_type": "execute_result"
    }
   ],
   "source": [
    "Y_train.shape[1]"
   ]
  },
  {
   "cell_type": "code",
   "execution_count": 183,
   "metadata": {},
   "outputs": [
    {
     "data": {
      "text/plain": [
       "array([[0.92704858, 0.44151234, 0.73080738, 0.20193444, 0.11011213,\n",
       "        0.54167612],\n",
       "       [0.96324639, 0.27569097, 0.90210763, 0.30098948, 0.13635942,\n",
       "        0.2313118 ],\n",
       "       [0.83866913, 0.68647619, 0.99724311, 0.33991525, 0.6849049 ,\n",
       "        0.23023945],\n",
       "       [0.43292445, 0.93348464, 0.00325116, 0.6629878 , 0.87564712,\n",
       "        0.05350732],\n",
       "       [0.0519455 , 0.40524589, 0.16920486, 0.96094859, 0.98670135,\n",
       "        0.54276892]])"
      ]
     },
     "execution_count": 183,
     "metadata": {},
     "output_type": "execute_result"
    }
   ],
   "source": [
    "Y_train[0:5,]"
   ]
  },
  {
   "cell_type": "code",
   "execution_count": 184,
   "metadata": {},
   "outputs": [
    {
     "data": {
      "text/plain": [
       "array([[0.11011213, 0.73080738, 0.92704858],\n",
       "       [0.13635942, 0.90210763, 0.96324639],\n",
       "       [0.6849049 , 0.83866913, 0.99724311],\n",
       "       [0.00325116, 0.43292445, 0.87564712],\n",
       "       [0.0519455 , 0.16920486, 0.98670135]])"
      ]
     },
     "execution_count": 184,
     "metadata": {},
     "output_type": "execute_result"
    }
   ],
   "source": [
    "x_coords[0:5,]"
   ]
  },
  {
   "cell_type": "code",
   "execution_count": 185,
   "metadata": {},
   "outputs": [
    {
     "data": {
      "text/plain": [
       "array([[0.54167612, 0.20193444, 0.44151234],\n",
       "       [0.2313118 , 0.30098948, 0.27569097],\n",
       "       [0.23023945, 0.68647619, 0.33991525],\n",
       "       [0.6629878 , 0.93348464, 0.05350732],\n",
       "       [0.40524589, 0.96094859, 0.54276892]])"
      ]
     },
     "execution_count": 185,
     "metadata": {},
     "output_type": "execute_result"
    }
   ],
   "source": [
    "y_coords[0:5,]"
   ]
  },
  {
   "cell_type": "code",
   "execution_count": 186,
   "metadata": {},
   "outputs": [],
   "source": [
    "for i in range(len(x_coords)):\n",
    "    for j in range(Y_train.shape[1]):\n",
    "        if j%2==0:\n",
    "                a=int(j/2)\n",
    "                Y_train[i,j]=x_coords[i,a]\n",
    "        else:\n",
    "                b=int((j-1)/2)\n",
    "                Y_train[i,j]=y_coords[i,b]    "
   ]
  },
  {
   "cell_type": "code",
   "execution_count": 187,
   "metadata": {},
   "outputs": [],
   "source": [
    "X_train = X_train.reshape(X_train.shape[0], 72, 72,1)"
   ]
  },
  {
   "cell_type": "code",
   "execution_count": 208,
   "metadata": {},
   "outputs": [],
   "source": [
    "\n",
    "model6 = Sequential()\n",
    "model6.add(Conv2D(32, kernel_size=(3, 3), activation='relu', input_shape=(72,72,1)))\n",
    "model6.add(MaxPooling2D((2, 2)))\n",
    "model6.add(Dropout(0.25))\n",
    "\n",
    "model6.add(Conv2D(64, kernel_size=(3, 3), activation='relu'))\n",
    "model6.add(MaxPooling2D(pool_size=(2, 2)))\n",
    "model6.add(Dropout(0.25))\n",
    "\n",
    "model6.add(Conv2D(128, kernel_size=(3, 3), activation='relu'))\n",
    "model6.add(Dropout(0.4))\n",
    "\n",
    "model6.add(Flatten())\n",
    "\n",
    "model6.add(Dense(128, activation='relu'))\n",
    "model6.add(Dense(6))\n",
    "model6.compile(loss='mean_squared_error',optimizer='adam',metrics=['accuracy'])"
   ]
  },
  {
   "cell_type": "code",
   "execution_count": 209,
   "metadata": {},
   "outputs": [
    {
     "name": "stdout",
     "output_type": "stream",
     "text": [
      "Epoch 1/30\n",
      "3000/3000 [==============================] - 75s 25ms/step - loss: 1.1444 - acc: 0.2673\n",
      "Epoch 2/30\n",
      "3000/3000 [==============================] - 76s 25ms/step - loss: 0.0731 - acc: 0.4943\n",
      "Epoch 3/30\n",
      "3000/3000 [==============================] - 85s 28ms/step - loss: 0.0635 - acc: 0.5250\n",
      "Epoch 4/30\n",
      "3000/3000 [==============================] - 98s 33ms/step - loss: 0.0566 - acc: 0.5247\n",
      "Epoch 5/30\n",
      "3000/3000 [==============================] - 100s 33ms/step - loss: 0.0397 - acc: 0.5567\n",
      "Epoch 6/30\n",
      "3000/3000 [==============================] - 106s 35ms/step - loss: 0.0345 - acc: 0.5840\n",
      "Epoch 7/30\n",
      "3000/3000 [==============================] - 103s 34ms/step - loss: 0.0322 - acc: 0.5920\n",
      "Epoch 8/30\n",
      "3000/3000 [==============================] - 117s 39ms/step - loss: 0.0299 - acc: 0.6060\n",
      "Epoch 9/30\n",
      "3000/3000 [==============================] - 122s 41ms/step - loss: 0.0270 - acc: 0.6403\n",
      "Epoch 10/30\n",
      "3000/3000 [==============================] - 114s 38ms/step - loss: 0.0253 - acc: 0.6543\n",
      "Epoch 11/30\n",
      "3000/3000 [==============================] - 100s 33ms/step - loss: 0.0233 - acc: 0.6767\n",
      "Epoch 12/30\n",
      "3000/3000 [==============================] - 105s 35ms/step - loss: 0.0215 - acc: 0.6820\n",
      "Epoch 13/30\n",
      "3000/3000 [==============================] - 104s 35ms/step - loss: 0.0201 - acc: 0.7007\n",
      "Epoch 14/30\n",
      "3000/3000 [==============================] - 94s 31ms/step - loss: 0.0188 - acc: 0.7130\n",
      "Epoch 15/30\n",
      "3000/3000 [==============================] - 94s 31ms/step - loss: 0.0177 - acc: 0.7197\n",
      "Epoch 16/30\n",
      "3000/3000 [==============================] - 89s 30ms/step - loss: 0.0165 - acc: 0.7370\n",
      "Epoch 17/30\n",
      "3000/3000 [==============================] - 87s 29ms/step - loss: 0.0155 - acc: 0.7417\n",
      "Epoch 18/30\n",
      "3000/3000 [==============================] - 85s 28ms/step - loss: 0.0148 - acc: 0.7403\n",
      "Epoch 19/30\n",
      "3000/3000 [==============================] - 85s 28ms/step - loss: 0.0142 - acc: 0.7490\n",
      "Epoch 20/30\n",
      "3000/3000 [==============================] - 88s 29ms/step - loss: 0.0139 - acc: 0.7620\n",
      "Epoch 21/30\n",
      "3000/3000 [==============================] - 88s 29ms/step - loss: 0.0133 - acc: 0.7717\n",
      "Epoch 22/30\n",
      "3000/3000 [==============================] - 94s 31ms/step - loss: 0.0129 - acc: 0.7700\n",
      "Epoch 23/30\n",
      "3000/3000 [==============================] - 100s 33ms/step - loss: 0.0127 - acc: 0.7690\n",
      "Epoch 24/30\n",
      "3000/3000 [==============================] - 90s 30ms/step - loss: 0.0119 - acc: 0.7650\n",
      "Epoch 25/30\n",
      "3000/3000 [==============================] - 91s 30ms/step - loss: 0.0116 - acc: 0.7797\n",
      "Epoch 26/30\n",
      "3000/3000 [==============================] - 89s 30ms/step - loss: 0.0115 - acc: 0.7913\n",
      "Epoch 27/30\n",
      "3000/3000 [==============================] - 96s 32ms/step - loss: 0.0112 - acc: 0.7787\n",
      "Epoch 28/30\n",
      "3000/3000 [==============================] - 93s 31ms/step - loss: 0.0114 - acc: 0.7913\n",
      "Epoch 29/30\n",
      "3000/3000 [==============================] - 90s 30ms/step - loss: 0.0109 - acc: 0.7873\n",
      "Epoch 30/30\n",
      "3000/3000 [==============================] - 88s 29ms/step - loss: 0.0107 - acc: 0.7910\n"
     ]
    },
    {
     "data": {
      "text/plain": [
       "<keras.callbacks.History at 0x1d6c26fc6d8>"
      ]
     },
     "execution_count": 209,
     "metadata": {},
     "output_type": "execute_result"
    }
   ],
   "source": [
    "\n",
    "model6.fit(X_train,Y_train,epochs=30,batch_size=128)\n"
   ]
  },
  {
   "cell_type": "code",
   "execution_count": 216,
   "metadata": {},
   "outputs": [
    {
     "name": "stdout",
     "output_type": "stream",
     "text": [
      "Creating data:\n",
      "0\n",
      "10\n",
      "20\n",
      "30\n",
      "40\n",
      "50\n",
      "60\n",
      "70\n",
      "80\n",
      "90\n",
      "100\n",
      "110\n",
      "120\n",
      "130\n",
      "140\n",
      "150\n",
      "160\n",
      "170\n",
      "180\n",
      "190\n",
      "200\n",
      "210\n",
      "220\n",
      "230\n",
      "240\n",
      "250\n",
      "260\n",
      "270\n",
      "280\n",
      "290\n"
     ]
    }
   ],
   "source": [
    "[X_test, Y_test] = generate_test_set_regression()\n"
   ]
  },
  {
   "cell_type": "code",
   "execution_count": 217,
   "metadata": {},
   "outputs": [],
   "source": [
    "xt_coords=Y_test[:,[0,2,4]]\n",
    "yt_coords=Y_test[:,[1,3,5]]\n",
    "for i in range(len(xt_coords)):\n",
    "    xt_coords[i,], yt_coords[i,] = zip(*sorted(zip(xt_coords[i,], yt_coords[i,])))"
   ]
  },
  {
   "cell_type": "code",
   "execution_count": 218,
   "metadata": {},
   "outputs": [],
   "source": [
    "for i in range(len(xt_coords)):\n",
    "    for j in range(Y_test.shape[1]):\n",
    "        if j%2==0:\n",
    "                a=int(j/2)\n",
    "                Y_test[i,j]=xt_coords[i,a]\n",
    "        else:\n",
    "                b=int((j-1)/2)\n",
    "                Y_test[i,j]=yt_coords[i,b] "
   ]
  },
  {
   "cell_type": "code",
   "execution_count": 222,
   "metadata": {},
   "outputs": [
    {
     "data": {
      "image/png": "[encoded data removed]",
      "text/plain": [
       "<Figure size 360x360 with 1 Axes>"
      ]
     },
     "metadata": {},
     "output_type": "display_data"
    },
    {
     "data": {
      "image/png": "[encoded data removed]",
      "text/plain": [
       "<Figure size 360x360 with 1 Axes>"
      ]
     },
     "metadata": {},
     "output_type": "display_data"
    },
    {
     "data": {
      "image/png": "[encoded data removed]",
      "text/plain": [
       "<Figure size 360x360 with 1 Axes>"
      ]
     },
     "metadata": {},
     "output_type": "display_data"
    },
    {
     "data": {
      "image/png": "[encoded data removed]",
      "text/plain": [
       "<Figure size 360x360 with 1 Axes>"
      ]
     },
     "metadata": {},
     "output_type": "display_data"
    },
    {
     "data": {
      "image/png": "[encoded data removed]",
      "text/plain": [
       "<Figure size 360x360 with 1 Axes>"
      ]
     },
     "metadata": {},
     "output_type": "display_data"
    },
    {
     "data": {
      "image/png": "[encoded data removed]",
      "text/plain": [
       "<Figure size 360x360 with 1 Axes>"
      ]
     },
     "metadata": {},
     "output_type": "display_data"
    },
    {
     "data": {
      "image/png": "[encoded data removed]",
      "text/plain": [
       "<Figure size 360x360 with 1 Axes>"
      ]
     },
     "metadata": {},
     "output_type": "display_data"
    },
    {
     "data": {
      "image/png": "[encoded data removed]",
      "text/plain": [
       "<Figure size 360x360 with 1 Axes>"
      ]
     },
     "metadata": {},
     "output_type": "display_data"
    },
    {
     "data": {
      "image/png": "[encoded data removed]",
      "text/plain": [
       "<Figure size 360x360 with 1 Axes>"
      ]
     },
     "metadata": {},
     "output_type": "display_data"
    },
    {
     "data": {
      "image/png": "[encoded data removed]",
      "text/plain": [
       "<Figure size 360x360 with 1 Axes>"
      ]
     },
     "metadata": {},
     "output_type": "display_data"
    }
   ],
   "source": [
    "Y_predict=model6.predict(X_test.reshape(300,72,72,1)) \n",
    "\n",
    "#Visualizing the Regression\n",
    "for x in range(10):\n",
    "    visualize_prediction(X_test[x],Y_predict[x])"
   ]
  },
  {
   "cell_type": "code",
   "execution_count": 221,
   "metadata": {},
   "outputs": [
    {
     "name": "stdout",
     "output_type": "stream",
     "text": [
      "300/300 [==============================] - 2s 6ms/step\n",
      "Test score: 0.04527309849858284\n",
      "Test accuracy: 0.78\n"
     ]
    }
   ],
   "source": [
    "score,acc=model6.evaluate(X_test.reshape(300,72,72,1), Y_test)\n",
    "print('Test score:', score)\n",
    "print('Test accuracy:', acc)"
   ]
  },
  {
   "cell_type": "markdown",
   "metadata": {},
   "source": [
    "Able to achieve decent loss and accuracy on the training set. However the prediction could be better. The vertices are predicted quite accurately with respect to each other. We can see that most predictions are similar to the test triangle. However there is a drift. Also since it has more layers takes substantial time on local. "
   ]
  },
  {
   "cell_type": "markdown",
   "metadata": {},
   "source": [
    "Trying a simpler model with a dataset of 5,000 images "
   ]
  },
  {
   "cell_type": "code",
   "execution_count": 226,
   "metadata": {},
   "outputs": [
    {
     "name": "stdout",
     "output_type": "stream",
     "text": [
      "Creating data:\n",
      "0\n",
      "10\n",
      "20\n",
      "30\n",
      "40\n",
      "50\n",
      "60\n",
      "70\n",
      "80\n",
      "90\n",
      "100\n",
      "110\n",
      "120\n",
      "130\n",
      "140\n",
      "150\n",
      "160\n",
      "170\n",
      "180\n",
      "190\n",
      "200\n",
      "210\n",
      "220\n",
      "230\n",
      "240\n",
      "250\n",
      "260\n",
      "270\n",
      "280\n",
      "290\n",
      "300\n",
      "310\n",
      "320\n",
      "330\n",
      "340\n",
      "350\n",
      "360\n",
      "370\n",
      "380\n",
      "390\n",
      "400\n",
      "410\n",
      "420\n",
      "430\n",
      "440\n",
      "450\n",
      "460\n",
      "470\n",
      "480\n",
      "490\n",
      "500\n",
      "510\n",
      "520\n",
      "530\n",
      "540\n",
      "550\n",
      "560\n",
      "570\n",
      "580\n",
      "590\n",
      "600\n",
      "610\n",
      "620\n",
      "630\n",
      "640\n",
      "650\n",
      "660\n",
      "670\n",
      "680\n",
      "690\n",
      "700\n",
      "710\n",
      "720\n",
      "730\n",
      "740\n",
      "750\n",
      "760\n",
      "770\n",
      "780\n",
      "790\n",
      "800\n",
      "810\n",
      "820\n",
      "830\n",
      "840\n",
      "850\n",
      "860\n",
      "870\n",
      "880\n",
      "890\n",
      "900\n",
      "910\n",
      "920\n",
      "930\n",
      "940\n",
      "950\n",
      "960\n",
      "970\n",
      "980\n",
      "990\n",
      "1000\n",
      "1010\n",
      "1020\n",
      "1030\n",
      "1040\n",
      "1050\n",
      "1060\n",
      "1070\n",
      "1080\n",
      "1090\n",
      "1100\n",
      "1110\n",
      "1120\n",
      "1130\n",
      "1140\n",
      "1150\n",
      "1160\n",
      "1170\n",
      "1180\n",
      "1190\n",
      "1200\n",
      "1210\n",
      "1220\n",
      "1230\n",
      "1240\n",
      "1250\n",
      "1260\n",
      "1270\n",
      "1280\n",
      "1290\n",
      "1300\n",
      "1310\n",
      "1320\n",
      "1330\n",
      "1340\n",
      "1350\n",
      "1360\n",
      "1370\n",
      "1380\n",
      "1390\n",
      "1400\n",
      "1410\n",
      "1420\n",
      "1430\n",
      "1440\n",
      "1450\n",
      "1460\n",
      "1470\n",
      "1480\n",
      "1490\n",
      "1500\n",
      "1510\n",
      "1520\n",
      "1530\n",
      "1540\n",
      "1550\n",
      "1560\n",
      "1570\n",
      "1580\n",
      "1590\n",
      "1600\n",
      "1610\n",
      "1620\n",
      "1630\n",
      "1640\n",
      "1650\n",
      "1660\n",
      "1670\n",
      "1680\n",
      "1690\n",
      "1700\n",
      "1710\n",
      "1720\n",
      "1730\n",
      "1740\n",
      "1750\n",
      "1760\n",
      "1770\n",
      "1780\n",
      "1790\n",
      "1800\n",
      "1810\n",
      "1820\n",
      "1830\n",
      "1840\n",
      "1850\n",
      "1860\n",
      "1870\n",
      "1880\n",
      "1890\n",
      "1900\n",
      "1910\n",
      "1920\n",
      "1930\n",
      "1940\n",
      "1950\n",
      "1960\n",
      "1970\n",
      "1980\n",
      "1990\n",
      "2000\n",
      "2010\n",
      "2020\n",
      "2030\n",
      "2040\n",
      "2050\n",
      "2060\n",
      "2070\n",
      "2080\n",
      "2090\n",
      "2100\n",
      "2110\n",
      "2120\n",
      "2130\n",
      "2140\n",
      "2150\n",
      "2160\n",
      "2170\n",
      "2180\n",
      "2190\n",
      "2200\n",
      "2210\n",
      "2220\n",
      "2230\n",
      "2240\n",
      "2250\n",
      "2260\n",
      "2270\n",
      "2280\n",
      "2290\n",
      "2300\n",
      "2310\n",
      "2320\n",
      "2330\n",
      "2340\n",
      "2350\n",
      "2360\n",
      "2370\n",
      "2380\n",
      "2390\n",
      "2400\n",
      "2410\n",
      "2420\n",
      "2430\n",
      "2440\n",
      "2450\n",
      "2460\n",
      "2470\n",
      "2480\n",
      "2490\n",
      "2500\n",
      "2510\n",
      "2520\n",
      "2530\n",
      "2540\n",
      "2550\n",
      "2560\n",
      "2570\n",
      "2580\n",
      "2590\n",
      "2600\n",
      "2610\n",
      "2620\n",
      "2630\n",
      "2640\n",
      "2650\n",
      "2660\n",
      "2670\n",
      "2680\n",
      "2690\n",
      "2700\n",
      "2710\n",
      "2720\n",
      "2730\n",
      "2740\n",
      "2750\n",
      "2760\n",
      "2770\n",
      "2780\n",
      "2790\n",
      "2800\n",
      "2810\n",
      "2820\n",
      "2830\n",
      "2840\n",
      "2850\n",
      "2860\n",
      "2870\n",
      "2880\n",
      "2890\n",
      "2900\n",
      "2910\n",
      "2920\n",
      "2930\n",
      "2940\n",
      "2950\n",
      "2960\n",
      "2970\n",
      "2980\n",
      "2990\n",
      "3000\n",
      "3010\n",
      "3020\n",
      "3030\n",
      "3040\n",
      "3050\n",
      "3060\n",
      "3070\n",
      "3080\n",
      "3090\n",
      "3100\n",
      "3110\n",
      "3120\n",
      "3130\n",
      "3140\n",
      "3150\n",
      "3160\n",
      "3170\n",
      "3180\n",
      "3190\n",
      "3200\n",
      "3210\n",
      "3220\n",
      "3230\n",
      "3240\n",
      "3250\n",
      "3260\n",
      "3270\n",
      "3280\n",
      "3290\n",
      "3300\n",
      "3310\n",
      "3320\n",
      "3330\n",
      "3340\n",
      "3350\n",
      "3360\n",
      "3370\n",
      "3380\n",
      "3390\n",
      "3400\n",
      "3410\n",
      "3420\n",
      "3430\n",
      "3440\n",
      "3450\n",
      "3460\n",
      "3470\n",
      "3480\n",
      "3490\n",
      "3500\n",
      "3510\n",
      "3520\n",
      "3530\n",
      "3540\n",
      "3550\n",
      "3560\n",
      "3570\n",
      "3580\n",
      "3590\n",
      "3600\n",
      "3610\n",
      "3620\n",
      "3630\n",
      "3640\n",
      "3650\n",
      "3660\n",
      "3670\n",
      "3680\n",
      "3690\n",
      "3700\n",
      "3710\n",
      "3720\n",
      "3730\n",
      "3740\n",
      "3750\n",
      "3760\n",
      "3770\n",
      "3780\n",
      "3790\n",
      "3800\n",
      "3810\n",
      "3820\n",
      "3830\n",
      "3840\n",
      "3850\n",
      "3860\n",
      "3870\n",
      "3880\n",
      "3890\n",
      "3900\n",
      "3910\n",
      "3920\n",
      "3930\n",
      "3940\n",
      "3950\n",
      "3960\n",
      "3970\n",
      "3980\n",
      "3990\n",
      "4000\n",
      "4010\n",
      "4020\n",
      "4030\n",
      "4040\n",
      "4050\n",
      "4060\n",
      "4070\n",
      "4080\n",
      "4090\n",
      "4100\n",
      "4110\n",
      "4120\n",
      "4130\n",
      "4140\n",
      "4150\n",
      "4160\n",
      "4170\n",
      "4180\n",
      "4190\n",
      "4200\n",
      "4210\n",
      "4220\n",
      "4230\n",
      "4240\n",
      "4250\n",
      "4260\n",
      "4270\n",
      "4280\n",
      "4290\n",
      "4300\n",
      "4310\n",
      "4320\n",
      "4330\n",
      "4340\n",
      "4350\n",
      "4360\n",
      "4370\n",
      "4380\n",
      "4390\n",
      "4400\n",
      "4410\n",
      "4420\n",
      "4430\n",
      "4440\n",
      "4450\n",
      "4460\n",
      "4470\n",
      "4480\n",
      "4490\n",
      "4500\n",
      "4510\n",
      "4520\n",
      "4530\n",
      "4540\n",
      "4550\n",
      "4560\n",
      "4570\n",
      "4580\n",
      "4590\n",
      "4600\n",
      "4610\n",
      "4620\n",
      "4630\n",
      "4640\n",
      "4650\n",
      "4660\n",
      "4670\n",
      "4680\n",
      "4690\n",
      "4700\n",
      "4710\n",
      "4720\n",
      "4730\n",
      "4740\n",
      "4750\n",
      "4760\n",
      "4770\n",
      "4780\n",
      "4790\n",
      "4800\n",
      "4810\n",
      "4820\n",
      "4830\n",
      "4840\n",
      "4850\n",
      "4860\n",
      "4870\n",
      "4880\n",
      "4890\n",
      "4900\n",
      "4910\n",
      "4920\n",
      "4930\n",
      "4940\n",
      "4950\n",
      "4960\n",
      "4970\n",
      "4980\n",
      "4990\n"
     ]
    }
   ],
   "source": [
    "[X_train, Y_train] = generate_dataset_regression(5000, 20)\n",
    "x_coords=Y_train[:,[0,2,4]]\n",
    "y_coords=Y_train[:,[1,3,5]]\n",
    "for i in range(len(x_coords)):\n",
    "    x_coords[i,], y_coords[i,] = zip(*sorted(zip(x_coords[i,], y_coords[i,])))\n",
    "X_train = X_train.reshape(X_train.shape[0], 72, 72,1)"
   ]
  },
  {
   "cell_type": "code",
   "execution_count": 228,
   "metadata": {
    "scrolled": false
   },
   "outputs": [
    {
     "name": "stdout",
     "output_type": "stream",
     "text": [
      "Epoch 1/15\n",
      "5000/5000 [==============================] - 39s 8ms/step - loss: 0.6461 - acc: 0.1926\n",
      "Epoch 2/15\n",
      "5000/5000 [==============================] - 43s 9ms/step - loss: 0.0659 - acc: 0.2676\n",
      "Epoch 3/15\n",
      "5000/5000 [==============================] - 42s 8ms/step - loss: 0.0591 - acc: 0.2918\n",
      "Epoch 4/15\n",
      "5000/5000 [==============================] - 48s 10ms/step - loss: 0.0568 - acc: 0.3128\n",
      "Epoch 5/15\n",
      "5000/5000 [==============================] - 39s 8ms/step - loss: 0.0534 - acc: 0.3412\n",
      "Epoch 6/15\n",
      "5000/5000 [==============================] - 44s 9ms/step - loss: 0.0518 - acc: 0.3492\n",
      "Epoch 7/15\n",
      "5000/5000 [==============================] - 47s 9ms/step - loss: 0.0494 - acc: 0.3700\n",
      "Epoch 8/15\n",
      "5000/5000 [==============================] - 46s 9ms/step - loss: 0.0467 - acc: 0.3990\n",
      "Epoch 9/15\n",
      "5000/5000 [==============================] - 45s 9ms/step - loss: 0.0443 - acc: 0.4196\n",
      "Epoch 10/15\n",
      "5000/5000 [==============================] - 43s 9ms/step - loss: 0.0438 - acc: 0.4202\n",
      "Epoch 11/15\n",
      "5000/5000 [==============================] - 41s 8ms/step - loss: 0.0412 - acc: 0.4364\n",
      "Epoch 12/15\n",
      "5000/5000 [==============================] - 43s 9ms/step - loss: 0.0400 - acc: 0.4468\n",
      "Epoch 13/15\n",
      "5000/5000 [==============================] - 37s 7ms/step - loss: 0.0387 - acc: 0.4546\n",
      "Epoch 14/15\n",
      "5000/5000 [==============================] - 42s 8ms/step - loss: 0.0370 - acc: 0.4682\n",
      "Epoch 15/15\n",
      "5000/5000 [==============================] - 44s 9ms/step - loss: 0.0360 - acc: 0.4708\n"
     ]
    },
    {
     "data": {
      "image/png": "[encoded data removed]",
      "text/plain": [
       "<Figure size 360x360 with 1 Axes>"
      ]
     },
     "metadata": {},
     "output_type": "display_data"
    },
    {
     "data": {
      "image/png": "[encoded data removed]",
      "text/plain": [
       "<Figure size 360x360 with 1 Axes>"
      ]
     },
     "metadata": {},
     "output_type": "display_data"
    },
    {
     "data": {
      "image/png": "[encoded data removed]",
      "text/plain": [
       "<Figure size 360x360 with 1 Axes>"
      ]
     },
     "metadata": {},
     "output_type": "display_data"
    },
    {
     "data": {
      "image/png": "[encoded data removed]",
      "text/plain": [
       "<Figure size 360x360 with 1 Axes>"
      ]
     },
     "metadata": {},
     "output_type": "display_data"
    },
    {
     "data": {
      "image/png": "[encoded data removed]",
      "text/plain": [
       "<Figure size 360x360 with 1 Axes>"
      ]
     },
     "metadata": {},
     "output_type": "display_data"
    },
    {
     "data": {
      "image/png": "[encoded data removed]",
      "text/plain": [
       "<Figure size 360x360 with 1 Axes>"
      ]
     },
     "metadata": {},
     "output_type": "display_data"
    },
    {
     "data": {
      "image/png": "[encoded data removed]",
      "text/plain": [
       "<Figure size 360x360 with 1 Axes>"
      ]
     },
     "metadata": {},
     "output_type": "display_data"
    },
    {
     "data": {
      "image/png": "[encoded data removed]",
      "text/plain": [
       "<Figure size 360x360 with 1 Axes>"
      ]
     },
     "metadata": {},
     "output_type": "display_data"
    },
    {
     "data": {
      "image/png": "[encoded data removed]",
      "text/plain": [
       "<Figure size 360x360 with 1 Axes>"
      ]
     },
     "metadata": {},
     "output_type": "display_data"
    },
    {
     "data": {
      "image/png": "[encoded data removed]",
      "text/plain": [
       "<Figure size 360x360 with 1 Axes>"
      ]
     },
     "metadata": {},
     "output_type": "display_data"
    }
   ],
   "source": [
    "\n",
    "model7 = Sequential()\n",
    "model7.add(Conv2D(16,(5,5),activation = 'relu' , input_shape=(72,72,1)))\n",
    "model7.add(MaxPooling2D(pool_size=(2,2)))\n",
    "model7.add(Activation(\"relu\"))\n",
    "model7.add(Flatten())\n",
    "model7.add(Dense(6))\n",
    "model7.compile(loss='mean_squared_error',optimizer='adam',metrics=['accuracy'])\n",
    "model7.fit(X_train,Y_train,epochs=15,batch_size=64)\n",
    "Y_predict=model7.predict(X_test.reshape(300,72,72,1)) \n",
    "\n",
    "#Visualizing the Regression\n",
    "for x in range(10):\n",
    "    visualize_prediction(X_test[x],Y_predict[x])"
   ]
  },
  {
   "cell_type": "markdown",
   "metadata": {},
   "source": [
    "The previous model with 4 layers performs much better. This appears to give very bad predictions"
   ]
  },
  {
   "cell_type": "markdown",
   "metadata": {},
   "source": [
    "### Question 7 - Denoising "
   ]
  },
  {
   "cell_type": "markdown",
   "metadata": {},
   "source": [
    "Modifying the generate image functions by passing a non zero value for noise which is then randomized. These functions return 2 images - a noisy and clean image. This will then be run on an hourglass model."
   ]
  },
  {
   "cell_type": "code",
   "execution_count": 57,
   "metadata": {},
   "outputs": [],
   "source": [
    "\n",
    "IMAGE_SIZE = 72\n",
    "\n",
    "def generate_a_drawing_pair(figsize, U, V, noise=10.0):\n",
    "    fig = plt.figure(figsize=(figsize,figsize))\n",
    "    ax = plt.subplot(111)\n",
    "    plt.axis('Off')\n",
    "    ax.set_xlim(0,figsize)\n",
    "    ax.set_ylim(0,figsize)\n",
    "    ax.fill(U, V, \"k\")\n",
    "    fig.canvas.draw()\n",
    "    imdata = np.frombuffer(fig.canvas.tostring_rgb(), dtype=np.uint8)[::3].astype(np.float32)\n",
    "    imdata_noisy = imdata + noise * np.random.random(imdata.size)\n",
    "    plt.close(fig)\n",
    "    return [imdata,imdata_noisy]\n",
    "\n",
    "def generate_a_rectangle_pair(noise=10.0, free_location=False):\n",
    "    figsize = 1.0    \n",
    "    U = np.zeros(4)\n",
    "    V = np.zeros(4)\n",
    "    if free_location:\n",
    "        corners = np.random.random(4)\n",
    "        top = max(corners[0], corners[1])\n",
    "        bottom = min(corners[0], corners[1])\n",
    "        left = min(corners[2], corners[3])\n",
    "        right = max(corners[2], corners[3])\n",
    "    else:\n",
    "        side = (0.3 + 0.7 * np.random.random()) * figsize\n",
    "        top = figsize/2 + side/2\n",
    "        bottom = figsize/2 - side/2\n",
    "        left = bottom\n",
    "        right = top\n",
    "    U[0] = U[1] = top\n",
    "    U[2] = U[3] = bottom\n",
    "    V[0] = V[3] = left\n",
    "    V[1] = V[2] = right\n",
    "    return generate_a_drawing_pair(figsize, U, V, noise)\n",
    "\n",
    "\n",
    "def generate_a_disk_pair(noise=10.0, free_location=False):\n",
    "    figsize = 1.0\n",
    "    if free_location:\n",
    "        center = np.random.random(2)\n",
    "    else:\n",
    "        center = (figsize/2, figsize/2)\n",
    "    radius = (0.3 + 0.7 * np.random.random()) * figsize/2\n",
    "    N = 50\n",
    "    U = np.zeros(N)\n",
    "    V = np.zeros(N)\n",
    "    i = 0\n",
    "    for t in np.linspace(0, 2*np.pi, N):\n",
    "        U[i] = center[0] + np.cos(t) * radius\n",
    "        V[i] = center[1] + np.sin(t) * radius\n",
    "        i = i + 1\n",
    "    return generate_a_drawing_pair(figsize, U, V, noise)\n",
    "\n",
    "def generate_a_triangle_pair(noise=10.0, free_location=False):\n",
    "    figsize = 1.0\n",
    "    if free_location:\n",
    "        U = np.random.random(3)\n",
    "        V = np.random.random(3)\n",
    "    else:\n",
    "        size = (0.3 + 0.7 * np.random.random())*figsize/2\n",
    "        middle = figsize/2\n",
    "        U = (middle, middle+size, middle-size)\n",
    "        V = (middle+size, middle-size, middle-size)\n",
    "    imdata,imdata_noisy = generate_a_drawing_pair(figsize, U, V, noise)\n",
    "    return [imdata,imdata_noisy, [U[0], V[0], U[1], V[1], U[2], V[2]]]\n",
    "\n",
    "\n",
    "def generate_dataset_denoising(nb_samples, noise=10.0, free_location=False):\n",
    "    # Getting im_size:\n",
    "    x, x_n = generate_a_rectangle_pair()\n",
    "    im_size = x.shape[0]\n",
    "    X = np.zeros([nb_samples,im_size])\n",
    "    X_noise= np.zeros([nb_samples,im_size])\n",
    "    #Y = np.zeros(nb_samples)\n",
    "    print('Creating data:')\n",
    "    for i in range(nb_samples):\n",
    "        if i % 10 == 0:\n",
    "            print(i)\n",
    "        category = np.random.randint(3)\n",
    "        if category == 0:\n",
    "            [X[i],X_noise[i]] = generate_a_rectangle_pair(noise, free_location)\n",
    "        elif category == 1: \n",
    "            [X[i],X_noise[i]] = generate_a_disk_pair(noise, free_location)\n",
    "        else:\n",
    "            [X[i],X_noise[i], V] = generate_a_triangle_pair(noise, free_location)\n",
    "    return [X, X_noise]\n",
    "\n",
    "\n",
    "def generate_test_set_denoising():\n",
    "    np.random.seed(42)\n",
    "    [X_test, X_noise_test] = generate_dataset_denoising(300)\n",
    "    return [X_test, X_noise_test]"
   ]
  },
  {
   "cell_type": "code",
   "execution_count": 58,
   "metadata": {},
   "outputs": [],
   "source": [
    "im1,im2 = generate_a_rectangle_pair()"
   ]
  },
  {
   "cell_type": "code",
   "execution_count": 59,
   "metadata": {},
   "outputs": [
    {
     "data": {
      "text/plain": [
       "<matplotlib.image.AxesImage at 0x1fd1c9ea278>"
      ]
     },
     "execution_count": 59,
     "metadata": {},
     "output_type": "execute_result"
    },
    {
     "data": {
      "image/png": "[encoded data removed]",
      "text/plain": [
       "<Figure size 432x288 with 1 Axes>"
      ]
     },
     "metadata": {},
     "output_type": "display_data"
    }
   ],
   "source": [
    "plt.imshow(im1.reshape(IMAGE_SIZE,IMAGE_SIZE), cmap='gray')"
   ]
  },
  {
   "cell_type": "code",
   "execution_count": 60,
   "metadata": {},
   "outputs": [
    {
     "data": {
      "text/plain": [
       "array([256.02891918, 262.30823202, 264.93768707, ..., 258.53598692,\n",
       "       258.62283206, 264.35863546])"
      ]
     },
     "execution_count": 60,
     "metadata": {},
     "output_type": "execute_result"
    }
   ],
   "source": [
    "im2"
   ]
  },
  {
   "cell_type": "code",
   "execution_count": 61,
   "metadata": {},
   "outputs": [
    {
     "name": "stdout",
     "output_type": "stream",
     "text": [
      "Creating data:\n",
      "0\n",
      "10\n",
      "20\n",
      "30\n",
      "40\n",
      "50\n",
      "60\n",
      "70\n",
      "80\n",
      "90\n",
      "100\n",
      "110\n",
      "120\n",
      "130\n",
      "140\n",
      "150\n",
      "160\n",
      "170\n",
      "180\n",
      "190\n",
      "200\n",
      "210\n",
      "220\n",
      "230\n",
      "240\n",
      "250\n",
      "260\n",
      "270\n",
      "280\n",
      "290\n"
     ]
    }
   ],
   "source": [
    "[X_train, X_noise_train] = generate_dataset_denoising(300)"
   ]
  },
  {
   "cell_type": "markdown",
   "metadata": {},
   "source": [
    "Scaling the data- attempted the model without scaling and achieved extrmely poor results."
   ]
  },
  {
   "cell_type": "code",
   "execution_count": 62,
   "metadata": {},
   "outputs": [],
   "source": [
    "X_train/=255\n",
    "X_noise_train/=255"
   ]
  },
  {
   "cell_type": "code",
   "execution_count": 63,
   "metadata": {},
   "outputs": [],
   "source": [
    "X_train_re= X_train.reshape(X_train.shape[0], 72, 72,1)\n",
    "X_noise_train_re = X_noise_train.reshape(X_noise_train.shape[0], 72, 72,1)"
   ]
  },
  {
   "cell_type": "code",
   "execution_count": 64,
   "metadata": {},
   "outputs": [],
   "source": [
    "input_img = Input(shape=(72, 72, 1))\n"
   ]
  },
  {
   "cell_type": "code",
   "execution_count": 65,
   "metadata": {},
   "outputs": [],
   "source": [
    "\n",
    "# \"encoded\" is the encoded representation of the input\n",
    "encoded = Conv2D(128, (3,3), activation='relu', padding='same')(input_img)\n",
    "encoded = MaxPooling2D((2, 2), padding='same')(encoded)\n",
    "encoded = Conv2D(64, (3,3), activation='relu', padding='same')(encoded)\n",
    "encoded = MaxPooling2D((2, 2), padding='same')(encoded)\n",
    "encoded = Conv2D(32, (3,3), activation='relu', padding='same')(encoded)\n",
    "encoded = MaxPooling2D((2, 2), padding='same')(encoded)\n",
    "encoded = Conv2D(16, (3,3), activation='relu', padding='same')(encoded)\n",
    "encoded = MaxPooling2D((2, 2), padding='same')(encoded)\n",
    "\n",
    "# \"decoded\" is the lossy reconstruction of the input\n",
    "decoded = Conv2D(16, (3,3), activation='relu', padding='same')(encoded)\n",
    "decoded = UpSampling2D((2, 2))(decoded)\n",
    "decoded = Conv2D(32, (3,3), activation='relu', padding='same')(decoded)\n",
    "decoded = UpSampling2D((2, 2))(decoded)\n",
    "decoded = Conv2D(64, (3,3), activation='relu')(decoded)\n",
    "decoded = UpSampling2D((2, 2))(decoded)\n",
    "decoded = Conv2D(128, (3,3), activation='relu', padding='same')(decoded)\n",
    "decoded = UpSampling2D((2, 2))(decoded)\n",
    "decoded = Conv2D(1, (3,3), padding='same')(decoded)\n",
    "\n",
    "# this model maps an input to its reconstruction\n",
    "autoencoder = Model(input_img, decoded)"
   ]
  },
  {
   "cell_type": "code",
   "execution_count": 66,
   "metadata": {},
   "outputs": [
    {
     "name": "stdout",
     "output_type": "stream",
     "text": [
      "_________________________________________________________________\n",
      "Layer (type)                 Output Shape              Param #   \n",
      "=================================================================\n",
      "input_5 (InputLayer)         (None, 72, 72, 1)         0         \n",
      "_________________________________________________________________\n",
      "conv2d_39 (Conv2D)           (None, 72, 72, 128)       1280      \n",
      "_________________________________________________________________\n",
      "max_pooling2d_17 (MaxPooling (None, 36, 36, 128)       0         \n",
      "_________________________________________________________________\n",
      "conv2d_40 (Conv2D)           (None, 36, 36, 64)        73792     \n",
      "_________________________________________________________________\n",
      "max_pooling2d_18 (MaxPooling (None, 18, 18, 64)        0         \n",
      "_________________________________________________________________\n",
      "conv2d_41 (Conv2D)           (None, 18, 18, 32)        18464     \n",
      "_________________________________________________________________\n",
      "max_pooling2d_19 (MaxPooling (None, 9, 9, 32)          0         \n",
      "_________________________________________________________________\n",
      "conv2d_42 (Conv2D)           (None, 9, 9, 16)          4624      \n",
      "_________________________________________________________________\n",
      "max_pooling2d_20 (MaxPooling (None, 5, 5, 16)          0         \n",
      "_________________________________________________________________\n",
      "conv2d_43 (Conv2D)           (None, 5, 5, 16)          2320      \n",
      "_________________________________________________________________\n",
      "up_sampling2d_17 (UpSampling (None, 10, 10, 16)        0         \n",
      "_________________________________________________________________\n",
      "conv2d_44 (Conv2D)           (None, 10, 10, 32)        4640      \n",
      "_________________________________________________________________\n",
      "up_sampling2d_18 (UpSampling (None, 20, 20, 32)        0         \n",
      "_________________________________________________________________\n",
      "conv2d_45 (Conv2D)           (None, 18, 18, 64)        18496     \n",
      "_________________________________________________________________\n",
      "up_sampling2d_19 (UpSampling (None, 36, 36, 64)        0         \n",
      "_________________________________________________________________\n",
      "conv2d_46 (Conv2D)           (None, 36, 36, 128)       73856     \n",
      "_________________________________________________________________\n",
      "up_sampling2d_20 (UpSampling (None, 72, 72, 128)       0         \n",
      "_________________________________________________________________\n",
      "conv2d_47 (Conv2D)           (None, 72, 72, 1)         1153      \n",
      "=================================================================\n",
      "Total params: 198,625\n",
      "Trainable params: 198,625\n",
      "Non-trainable params: 0\n",
      "_________________________________________________________________\n"
     ]
    }
   ],
   "source": [
    "autoencoder.summary()"
   ]
  },
  {
   "cell_type": "code",
   "execution_count": 67,
   "metadata": {},
   "outputs": [],
   "source": [
    "encoder = Model(input_img, encoded)"
   ]
  },
  {
   "cell_type": "code",
   "execution_count": 68,
   "metadata": {},
   "outputs": [],
   "source": [
    "autoencoder.compile(optimizer='adam', loss='mse', metrics=['accuracy'])"
   ]
  },
  {
   "cell_type": "code",
   "execution_count": 69,
   "metadata": {},
   "outputs": [
    {
     "data": {
      "text/plain": [
       "<matplotlib.image.AxesImage at 0x1fd165b0cf8>"
      ]
     },
     "execution_count": 69,
     "metadata": {},
     "output_type": "execute_result"
    },
    {
     "data": {
      "image/png": "[encoded data removed]",
      "text/plain": [
       "<Figure size 432x288 with 1 Axes>"
      ]
     },
     "metadata": {},
     "output_type": "display_data"
    }
   ],
   "source": [
    "plt.imshow(X_noise_train_re[0].reshape(IMAGE_SIZE,IMAGE_SIZE), cmap='gray')"
   ]
  },
  {
   "cell_type": "code",
   "execution_count": 70,
   "metadata": {},
   "outputs": [
    {
     "name": "stdout",
     "output_type": "stream",
     "text": [
      "Epoch 1/13\n",
      "300/300 [==============================] - 73s 245ms/step - loss: 0.3039 - acc: 0.6039\n",
      "Epoch 2/13\n",
      "300/300 [==============================] - 93s 311ms/step - loss: 0.1001 - acc: 0.8686\n",
      "Epoch 3/13\n",
      "300/300 [==============================] - 108s 361ms/step - loss: 0.0673 - acc: 0.9362\n",
      "Epoch 4/13\n",
      "300/300 [==============================] - 134s 447ms/step - loss: 0.0472 - acc: 0.9557\n",
      "Epoch 5/13\n",
      "300/300 [==============================] - 130s 432ms/step - loss: 0.0363 - acc: 0.9650\n",
      "Epoch 6/13\n",
      "300/300 [==============================] - 157s 524ms/step - loss: 0.0317 - acc: 0.9693\n",
      "Epoch 7/13\n",
      "300/300 [==============================] - 142s 473ms/step - loss: 0.0274 - acc: 0.9746\n",
      "Epoch 8/13\n",
      "300/300 [==============================] - 146s 486ms/step - loss: 0.0262 - acc: 0.9759\n",
      "Epoch 9/13\n",
      "300/300 [==============================] - 114s 379ms/step - loss: 0.0234 - acc: 0.9790\n",
      "Epoch 10/13\n",
      "300/300 [==============================] - 29s 97ms/step - loss: 0.0226 - acc: 0.9792\n",
      "Epoch 11/13\n",
      "300/300 [==============================] - 30s 101ms/step - loss: 0.0231 - acc: 0.9779\n",
      "Epoch 12/13\n",
      "300/300 [==============================] - 31s 104ms/step - loss: 0.0191 - acc: 0.9825\n",
      "Epoch 13/13\n",
      "300/300 [==============================] - 33s 112ms/step - loss: 0.0176 - acc: 0.9836\n"
     ]
    }
   ],
   "source": [
    "train_history = autoencoder.fit(X_noise_train_re, X_train_re, epochs=13, batch_size=32)"
   ]
  },
  {
   "cell_type": "code",
   "execution_count": 71,
   "metadata": {},
   "outputs": [
    {
     "name": "stdout",
     "output_type": "stream",
     "text": [
      "Creating data:\n",
      "0\n",
      "10\n",
      "20\n",
      "30\n",
      "40\n",
      "50\n",
      "60\n",
      "70\n",
      "80\n",
      "90\n",
      "100\n",
      "110\n",
      "120\n",
      "130\n",
      "140\n",
      "150\n",
      "160\n",
      "170\n",
      "180\n",
      "190\n",
      "200\n",
      "210\n",
      "220\n",
      "230\n",
      "240\n",
      "250\n",
      "260\n",
      "270\n",
      "280\n",
      "290\n"
     ]
    },
    {
     "data": {
      "text/plain": [
       "<matplotlib.image.AxesImage at 0x1fd131d5e10>"
      ]
     },
     "execution_count": 71,
     "metadata": {},
     "output_type": "execute_result"
    },
    {
     "data": {
      "image/png": "[encoded data removed]",
      "text/plain": [
       "<Figure size 432x288 with 1 Axes>"
      ]
     },
     "metadata": {},
     "output_type": "display_data"
    }
   ],
   "source": [
    "[X_test, X_noise_test] = generate_test_set_denoising()\n",
    "X_noise_test/=255\n",
    "X_test_re= X_test.reshape(X_test.shape[0], 72, 72,1)\n",
    "X_noise_test_re = X_noise_test.reshape(X_noise_test.shape[0], 72, 72,1)\n",
    "pred = autoencoder.predict(X_noise_test_re)\n",
    "pred*=255\n",
    "plt.imshow(pred[0].reshape(72, 72), cmap='gray')\n"
   ]
  },
  {
   "cell_type": "code",
   "execution_count": 72,
   "metadata": {},
   "outputs": [
    {
     "data": {
      "text/plain": [
       "<matplotlib.image.AxesImage at 0x1fd132374e0>"
      ]
     },
     "execution_count": 72,
     "metadata": {},
     "output_type": "execute_result"
    },
    {
     "data": {
      "image/png": "[encoded data removed]",
      "text/plain": [
       "<Figure size 432x288 with 1 Axes>"
      ]
     },
     "metadata": {},
     "output_type": "display_data"
    }
   ],
   "source": [
    "plt.imshow(X_noise_test_re[0].reshape(72, 72), cmap='gray')"
   ]
  },
  {
   "cell_type": "code",
   "execution_count": null,
   "metadata": {},
   "outputs": [],
   "source": []
  }
 ],
 "metadata": {
  "kernelspec": {
   "display_name": "Python 3",
   "language": "python",
   "name": "python3"
  }
 },
 "nbformat": 4,
 "nbformat_minor": 2
}
